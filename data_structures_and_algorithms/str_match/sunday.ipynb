{
 "cells": [
  {
   "cell_type": "markdown",
   "metadata": {},
   "source": [
    "# sunday算法\n",
    "\n",
    "使用主串中参与匹配的最后一个字符的下一个字符，去模式串(共n个)中查找第一个出现的这个字符，如果模式串中有，滑动index位，如果没有，滑动n+1位。\n",
    "\n",
    "```\n",
    "'test test sunday'\n",
    "'sunday'            - e not in 'sunday' --> move 6+1  （n+1)\n",
    "-------------------------------------------------------\n",
    "'test test sunday'\n",
    "'       sunday'            - d in 'sunday' --> move 3  (index)\n",
    "-------------------------------------------------------\n",
    "'test test sunday'\n",
    "'          sunday'            - match\n",
    "```\n",
    "\n",
    "据说比[BM算法](./boyer_moore.ipynb)还要快\n"
   ]
  },
  {
   "cell_type": "code",
   "execution_count": 25,
   "metadata": {},
   "outputs": [
    {
     "name": "stdout",
     "output_type": "stream",
     "text": [
      "s s\n",
      "u u\n",
      "n n\n",
      "d d\n",
      "a a\n",
      "y y\n",
      "True\n",
      "--------------------\n",
      "s t\n"
     ]
    },
    {
     "ename": "AttributeError",
     "evalue": "'str' object has no attribute 'next_char_in_expect'",
     "output_type": "error",
     "traceback": [
      "\u001b[0;31m---------------------------------------------------------------------------\u001b[0m",
      "\u001b[0;31mAttributeError\u001b[0m                            Traceback (most recent call last)",
      "\u001b[0;32m<ipython-input-25-54981047c695>\u001b[0m in \u001b[0;36m<module>\u001b[0;34m()\u001b[0m\n\u001b[1;32m     23\u001b[0m \u001b[0mprint\u001b[0m\u001b[0;34m(\u001b[0m\u001b[0msunday\u001b[0m\u001b[0;34m(\u001b[0m\u001b[0;34m'sunday'\u001b[0m\u001b[0;34m,\u001b[0m \u001b[0;34m'sunday'\u001b[0m\u001b[0;34m)\u001b[0m\u001b[0;34m)\u001b[0m\u001b[0;34m\u001b[0m\u001b[0m\n\u001b[1;32m     24\u001b[0m \u001b[0mprint\u001b[0m\u001b[0;34m(\u001b[0m\u001b[0;34m'-'\u001b[0m\u001b[0;34m*\u001b[0m\u001b[0;36m20\u001b[0m\u001b[0;34m)\u001b[0m\u001b[0;34m\u001b[0m\u001b[0m\n\u001b[0;32m---> 25\u001b[0;31m \u001b[0mprint\u001b[0m\u001b[0;34m(\u001b[0m\u001b[0msunday\u001b[0m\u001b[0;34m(\u001b[0m\u001b[0;34m'test test sunday'\u001b[0m\u001b[0;34m,\u001b[0m \u001b[0;34m'sunday'\u001b[0m\u001b[0;34m)\u001b[0m\u001b[0;34m)\u001b[0m\u001b[0;34m\u001b[0m\u001b[0m\n\u001b[0m",
      "\u001b[0;32m<ipython-input-25-54981047c695>\u001b[0m in \u001b[0;36msunday\u001b[0;34m(base, expect)\u001b[0m\n\u001b[1;32m     12\u001b[0m \u001b[0;34m\u001b[0m\u001b[0m\n\u001b[1;32m     13\u001b[0m         \u001b[0mnext_char_in_expect\u001b[0m \u001b[0;34m=\u001b[0m \u001b[0mexpect\u001b[0m\u001b[0;34m.\u001b[0m\u001b[0mfind\u001b[0m\u001b[0;34m(\u001b[0m\u001b[0mbase\u001b[0m\u001b[0;34m[\u001b[0m\u001b[0mindex\u001b[0m\u001b[0;34m+\u001b[0m\u001b[0mexpect_len\u001b[0m\u001b[0;34m]\u001b[0m\u001b[0;34m)\u001b[0m\u001b[0;34m\u001b[0m\u001b[0m\n\u001b[0;32m---> 14\u001b[0;31m         \u001b[0mprint\u001b[0m\u001b[0;34m(\u001b[0m\u001b[0;34m'next_char: %s, next_char_in_expect: %s'\u001b[0m \u001b[0;34m%\u001b[0m \u001b[0;34m(\u001b[0m\u001b[0mbase\u001b[0m\u001b[0;34m[\u001b[0m\u001b[0mindex\u001b[0m\u001b[0;34m+\u001b[0m\u001b[0mexpect_len\u001b[0m\u001b[0;34m]\u001b[0m\u001b[0;34m.\u001b[0m \u001b[0mnext_char_in_expect\u001b[0m\u001b[0;34m)\u001b[0m\u001b[0;34m)\u001b[0m\u001b[0;34m\u001b[0m\u001b[0m\n\u001b[0m\u001b[1;32m     15\u001b[0m         \u001b[0;32mif\u001b[0m \u001b[0mnext_char_in_expect\u001b[0m \u001b[0;34m>\u001b[0m \u001b[0;34m-\u001b[0m\u001b[0;36m1\u001b[0m\u001b[0;34m:\u001b[0m\u001b[0;34m\u001b[0m\u001b[0m\n\u001b[1;32m     16\u001b[0m             \u001b[0mindex\u001b[0m \u001b[0;34m+=\u001b[0m \u001b[0mnext_char_in_expect\u001b[0m\u001b[0;34m\u001b[0m\u001b[0m\n",
      "\u001b[0;31mAttributeError\u001b[0m: 'str' object has no attribute 'next_char_in_expect'"
     ]
    }
   ],
   "source": [
    "def sunday(base, expect):\n",
    "    index = 0\n",
    "    base_len = len(base)\n",
    "    expect_len = len(expect)\n",
    "    while index <= (base_len - expect_len):\n",
    "        for k, char in enumerate(expect):\n",
    "            print(char, base[index+k])\n",
    "            if char != base[index+k]:\n",
    "                break\n",
    "        else:\n",
    "            return True\n",
    "\n",
    "        next_char_in_expect = expect.find(base[index+expect_len])\n",
    "        print('next_char: %s, next_char_in_expect: %s' % (base[index+expect_len]. next_char_in_expect))\n",
    "        if next_char_in_expect > -1:\n",
    "            index += next_char_in_expect\n",
    "        else:\n",
    "            index += expect_len+1\n",
    "        print('index:', index)\n",
    "    return False\n",
    "\n",
    "\n",
    "print(sunday('sunday', 'sunday'))\n",
    "print('-'*20)\n",
    "print(sunday('test test sunday', 'sunday'))"
   ]
  }
 ],
 "metadata": {
  "kernelspec": {
   "display_name": "Python 3",
   "language": "python",
   "name": "python3"
  },
  "language_info": {
   "codemirror_mode": {
    "name": "ipython",
    "version": 3
   },
   "file_extension": ".py",
   "mimetype": "text/x-python",
   "name": "python",
   "nbconvert_exporter": "python",
   "pygments_lexer": "ipython3",
   "version": "3.6.5"
  }
 },
 "nbformat": 4,
 "nbformat_minor": 2
}
