{
 "cells": [
  {
   "cell_type": "markdown",
   "metadata": {},
   "source": [
    "# AC算法\n",
    "\n",
    "Aho-Corasick算法。\n",
    "\n",
    "可以应用于多模式串匹配实现敏感词过滤。"
   ]
  },
  {
   "cell_type": "code",
   "execution_count": 49,
   "metadata": {
    "scrolled": true
   },
   "outputs": [
    {
     "name": "stdout",
     "output_type": "stream",
     "text": [
      "match -> text[0:2]: ce\n",
      "match -> text[2:4]: ce\n",
      "match -> text[5:7]: ce\n",
      "match -> text[14:18]: abce\n",
      "match -> text[16:18]: ce\n"
     ]
    }
   ],
   "source": [
    "class Node:\n",
    "    def __init__(self, char, is_end_char=False):\n",
    "        self.char = char\n",
    "        self.is_end_char = is_end_char\n",
    "        self.length = 0\n",
    "        self.children = dict()\n",
    "        self.fail = None\n",
    "        \n",
    "    def __repr__(self):\n",
    "        return self.char\n",
    "    \n",
    "    def to_dict(self):\n",
    "        return vars(self)\n",
    "\n",
    "class Trie:\n",
    "    def __init__(self):\n",
    "        self.root = Node('/')\n",
    "    \n",
    "    def insert(self, word):\n",
    "        node = self.root\n",
    "        for char in word:\n",
    "            if not node.children.get(char, False):\n",
    "                node.children[char] = Node(char)\n",
    "            node = node.children[char]\n",
    "        else:\n",
    "            node.is_end_char = True\n",
    "            node.length = len(word)\n",
    "            \n",
    "    def find(self, word):\n",
    "        node = self.root\n",
    "        for x in word:\n",
    "            if x not in node.children:\n",
    "                break\n",
    "            else:\n",
    "                node = node.children[x]\n",
    "        else:\n",
    "            if node.is_end_char:\n",
    "                return True\n",
    "        return False\n",
    "    \n",
    "    def buildFailNode(self):\n",
    "        queue = list()\n",
    "        queue.append(self.root)\n",
    "        while(queue):\n",
    "            node = queue.pop(0)\n",
    "            for child in node.children.values():\n",
    "                if node is self.root:\n",
    "                    child.fail = self.root\n",
    "                else:\n",
    "                    q = node.fail\n",
    "                    while(q):\n",
    "                        if q.children.get(child.char, False):\n",
    "                            child.fail = q.children[child.char]\n",
    "                            break\n",
    "                        q = q.fail\n",
    "                    if q == None:\n",
    "                        child.fail = self.root\n",
    "                        \n",
    "                queue.append(child)\n",
    "    \n",
    "    def match(self, text):\n",
    "        p = self.root\n",
    "        for k, v in enumerate(text):\n",
    "            while(p.children.get(v, None) is None and p is not self.root):\n",
    "                p = p.fail\n",
    "            \n",
    "            p = p.children.get(v, None)\n",
    "            \n",
    "            if p is None:\n",
    "                p = self.root\n",
    "            \n",
    "            tmp_p = p\n",
    "            while tmp_p is not self.root:\n",
    "                if tmp_p.is_end_char:\n",
    "                    index = k - tmp_p.length +1\n",
    "                    print('match -> text[%s:%s]: %s' % (index, index+tmp_p.length, text[index:index+tmp_p.length]))\n",
    "                tmp_p = tmp_p.fail\n",
    "                    \n",
    "                \n",
    "            \n",
    "\n",
    "\n",
    "\n",
    "trie = Trie()\n",
    "trie.insert('abce')\n",
    "trie.insert('bcd')\n",
    "trie.insert('ce')\n",
    "trie.buildFailNode()\n",
    "\n",
    "        \n",
    "trie.match('cececcecasdasdabce')"
   ]
  }
 ],
 "metadata": {
  "kernelspec": {
   "display_name": "Python 3",
   "language": "python",
   "name": "python3"
  },
  "language_info": {
   "codemirror_mode": {
    "name": "ipython",
    "version": 3
   },
   "file_extension": ".py",
   "mimetype": "text/x-python",
   "name": "python",
   "nbconvert_exporter": "python",
   "pygments_lexer": "ipython3",
   "version": "3.6.5"
  }
 },
 "nbformat": 4,
 "nbformat_minor": 2
}
