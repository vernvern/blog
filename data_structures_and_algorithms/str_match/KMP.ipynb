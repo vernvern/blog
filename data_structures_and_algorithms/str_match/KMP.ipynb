{
 "cells": [
  {
   "cell_type": "markdown",
   "metadata": {},
   "source": [
    "# KMP算法(Knuth-Morris-Pratt算法)\n",
    "\n",
    "\n"
   ]
  },
  {
   "cell_type": "code",
   "execution_count": 163,
   "metadata": {},
   "outputs": [
    {
     "data": {
      "text/plain": [
       "False"
      ]
     },
     "execution_count": 163,
     "metadata": {},
     "output_type": "execute_result"
    }
   ],
   "source": [
    "def _get_next(pattern):\n",
    "    _list = [-1,]\n",
    "    index = -1\n",
    "    for k in range(1, len(pattern)):\n",
    "        while index!=-1 and pattern[index+1] != pattern[k]:\n",
    "            index = _list[index]\n",
    "            \n",
    "        if pattern[index+1] == pattern[k]:\n",
    "            index += 1\n",
    "            \n",
    "        _list.append(index)\n",
    "    return _list\n",
    "\n",
    "\n",
    "def kmp(base, pattern):\n",
    "    pattern_len = len(pattern)\n",
    "    index = 0\n",
    "    _next = _get_next(pattern)\n",
    "    for k, v in enumerate(base):\n",
    "        while index > 0 and v != pattern[index]:\n",
    "\n",
    "            index = _next[index-1] + 1\n",
    "\n",
    "        if v == pattern[index]:\n",
    "            index += 1            \n",
    "        if index == pattern_len:\n",
    "                return 'base[%s:%s]: %s' % (k-index, k, base[k-index:k])\n",
    "        \n",
    "    return False\n",
    "\n",
    "    \n",
    "kmp('ababaeabac', 'ababacd')"
   ]
  },
  {
   "cell_type": "markdown",
   "metadata": {},
   "source": [
    "## next数组分析\n",
    "\n",
    "\n",
    "next 下标对应模式串下标，值对应**模式串开头到这个下标这段字符串**的**最长可匹配前缀字串最后一个字符的下标**。\n",
    "\n",
    "以`base = 'ababacd'`为例：\n",
    "\n",
    "\n",
    "`base[1] != base[0]`, 没有匹配的字符，并且已经没有次长可匹配前缀子串和次长可匹配后缀子串，`next[1] = -1`\n",
    "\n",
    "`base[2] == base[0]`, 最长可匹配前缀字串和次长可匹配后缀子串是`a`，`next[2] = 0` \n",
    "\n",
    "`base[3] == base[1]`, 次长可匹配前缀子串和次长可匹配后缀子串下标是0，因为`base[3] == base[1]`相等，最长可匹配前缀字串和次长可匹配后缀子串是`ab` `next[3] = 1`\n",
    "\n",
    "`base[4] == base[2]`, 次长可匹配前缀子串和次长可匹配后缀子串下标是1，因为`base[4] == base[2]`相等，最长可匹配前缀字串和次长可匹配后缀子串是`aba` `next[4] = 2`\n",
    "\n",
    "`base[5] != base[3]`, `base[5] != base[2]`, `base[5] != base[1]`, `base[5] != base[0]`, 没有匹配的字符，所以next[5] = -1\n",
    "\n",
    "`base[6] != base[0]`, 没有匹配的字符，next[6] = -1"
   ]
  },
  {
   "cell_type": "code",
   "execution_count": 164,
   "metadata": {
    "scrolled": true
   },
   "outputs": [
    {
     "name": "stdout",
     "output_type": "stream",
     "text": [
      "1 -1 [-1] False\n",
      "1 -1 [-1, -1]\n",
      "--------------------\n",
      "2 -1 [-1, -1] True\n",
      "2 0 [-1, -1, 0]\n",
      "--------------------\n",
      "3 0 [-1, -1, 0] True\n",
      "3 1 [-1, -1, 0, 1]\n",
      "--------------------\n",
      "4 1 [-1, -1, 0, 1] True\n",
      "4 2 [-1, -1, 0, 1, 2]\n",
      "--------------------\n",
      "5 2 [-1, -1, 0, 1, 2] False\n",
      "5 -1 [-1, -1, 0, 1, 2, -1]\n",
      "--------------------\n",
      "6 -1 [-1, -1, 0, 1, 2, -1] False\n",
      "6 -1 [-1, -1, 0, 1, 2, -1, -1]\n",
      "--------------------\n"
     ]
    },
    {
     "data": {
      "text/plain": [
       "[-1, -1, 0, 1, 2, -1, -1]"
      ]
     },
     "execution_count": 164,
     "metadata": {},
     "output_type": "execute_result"
    }
   ],
   "source": [
    "def _get_next(pattern):\n",
    "    _list = [-1,]\n",
    "    index = -1\n",
    "    for k in range(1, len(pattern)):\n",
    "        print(k, index, _list, pattern[index+1] == pattern[k])\n",
    "\n",
    "        while index!=-1 and pattern[index+1] != pattern[k]:\n",
    "            index = _list[index]\n",
    "            \n",
    "        if pattern[index+1] == pattern[k]:\n",
    "            index += 1\n",
    "            \n",
    "        _list.append(index)\n",
    "        print(k, index, _list)\n",
    "        print('-'*20)\n",
    "    return _list\n",
    "\n",
    "\n",
    "_get_next('ababacd')"
   ]
  },
  {
   "cell_type": "code",
   "execution_count": 165,
   "metadata": {},
   "outputs": [
    {
     "data": {
      "text/plain": [
       "[-1, -1, 0, 1, 2, -1, -1]"
      ]
     },
     "execution_count": 165,
     "metadata": {},
     "output_type": "execute_result"
    }
   ],
   "source": [
    "def _get_next(pattern):\n",
    "    prefix = set()  # 前缀子集\n",
    "    _list = []\n",
    "    for k, v in enumerate(pattern):\n",
    "        suffix = set()  # 后缀子集\n",
    "        source = pattern[0:k+1]\n",
    "        _prefix = source[0:-1]\n",
    "        _suffix = source[1:]\n",
    "\n",
    "        prefix.add(_prefix)\n",
    "\n",
    "        for x in range(len(_suffix)):\n",
    "            suffix.add(_suffix[x:])\n",
    "\n",
    "        mixed = prefix & suffix\n",
    "        _list.append(len(max(mixed))-1 if mixed else -1)\n",
    "    return _list\n",
    "\n",
    "_get_next('ababacd')"
   ]
  }
 ],
 "metadata": {
  "kernelspec": {
   "display_name": "Python 3",
   "language": "python",
   "name": "python3"
  },
  "language_info": {
   "codemirror_mode": {
    "name": "ipython",
    "version": 3
   },
   "file_extension": ".py",
   "mimetype": "text/x-python",
   "name": "python",
   "nbconvert_exporter": "python",
   "pygments_lexer": "ipython3",
   "version": "3.6.5"
  }
 },
 "nbformat": 4,
 "nbformat_minor": 2
}
