{
 "cells": [
  {
   "cell_type": "markdown",
   "metadata": {},
   "source": [
    "#  二分查找 (binary search)\n",
    "\n",
    "条件：\n",
    "\n",
    "- 数据格式是数组结构或者类似结构\n",
    "- 数据必须有序\n",
    "\n",
    "适用场景：\n",
    "\n",
    "- 数据量不能太小，不然速度优势不大\n",
    "- 数据量不能太大，因为二分查找依赖数组结构，数据量大的话需要较大块的连续内存空间\n",
    "\n"
   ]
  },
  {
   "cell_type": "code",
   "execution_count": 17,
   "metadata": {},
   "outputs": [
    {
     "name": "stdout",
     "output_type": "stream",
     "text": [
      "测试数据: [83, 133, 261, 452, 579, 704, 816, 963, 1120, 1180, 1190, 1369, 1516, 1555, 1565, 1569, 1594, 1657, 1732, 1735, 1761, 1809, 1985, 2108, 2113, 2173, 2273, 2315, 2411, 2560, 2652, 2782, 3045, 3069, 3327, 3337, 3375, 3382, 3404, 3432, 3447, 3579, 3749, 3780, 3813, 3961, 3984, 4014, 4133, 4213, 4250, 4345, 4590, 4662, 4741, 4757, 4979, 5022, 5114, 5152, 5183, 5368, 5420, 5434, 5538, 5772, 5823, 5849, 5974, 6067, 6287, 6385, 6390, 6601, 6722, 6763, 6808, 6910, 6926, 6969, 7123, 7240, 7433, 7502, 7524, 8023, 8087, 8092, 8238, 8716, 8871, 9138, 9285, 9297, 9343, 9583, 9651, 9808, 9854]\n",
      "\n",
      "查找数据: 3813 \n",
      "\n",
      "第1次测试，index(11), 值1369\n",
      "第2次测试，index(43), 值3780\n",
      "第3次测试，index(96), 值9651\n",
      "第4次测试，index(54), 值4741\n",
      "第5次测试，index(43), 值3780\n",
      "第6次测试，index(46), 值3984\n",
      "第7次测试，index(43), 值3780\n",
      "第8次测试，index(43), 值3780\n",
      "第9次测试，index(43), 值3780\n",
      "第10次测试，index(45), 值3961\n",
      "第11次测试，index(43), 值3780\n",
      "第12次测试，index(43), 值3780\n",
      "第13次测试，index(43), 值3780\n",
      "第14次测试，index(43), 值3780\n",
      "第15次测试，index(43), 值3780\n",
      "第16次测试，index(43), 值3780\n",
      "第17次测试，index(44), 值3813\n",
      "44 3813\n"
     ]
    }
   ],
   "source": [
    "from random import choices, choice\n",
    "\n",
    "\n",
    "_range = range(10000)\n",
    "numbers = 100\n",
    "data = list(sorted(set(choices(_range, k=numbers))))\n",
    "print('测试数据: %s\\n' % data)\n",
    "target = choice(data)\n",
    "print('查找数据: %s \\n' % target)\n",
    "\n",
    "prev = 0\n",
    "tail = len(data) - 1\n",
    "index = choice(range(prev, tail))\n",
    "times = 1\n",
    "while True:\n",
    "    print('第%s次测试，index: %s, 值%s' % (times, index, data[index]))\n",
    "    if data[index] == target:\n",
    "        break\n",
    "    elif target < data[index]:\n",
    "        tail = index\n",
    "    else:\n",
    "        prev = index\n",
    "    index = choice(range(prev, tail))\n",
    "    times += 1\n",
    "\n",
    "        \n",
    "print(index, data[index])\n",
    "\n",
    "\n"
   ]
  }
 ],
 "metadata": {
  "kernelspec": {
   "display_name": "Python 3",
   "language": "python",
   "name": "python3"
  },
  "language_info": {
   "codemirror_mode": {
    "name": "ipython",
    "version": 3
   },
   "file_extension": ".py",
   "mimetype": "text/x-python",
   "name": "python",
   "nbconvert_exporter": "python",
   "pygments_lexer": "ipython3",
   "version": "3.6.5"
  }
 },
 "nbformat": 4,
 "nbformat_minor": 2
}
