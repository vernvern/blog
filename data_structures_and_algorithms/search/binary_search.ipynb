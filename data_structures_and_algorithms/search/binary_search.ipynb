{
 "cells": [
  {
   "cell_type": "markdown",
   "metadata": {},
   "source": [
    "#  二分查找 (binary search)\n",
    "\n",
    "条件：\n",
    "\n",
    "- 数据格式是数组结构或者类似结构\n",
    "- 数据必须有序\n",
    "\n",
    "适用场景：\n",
    "\n",
    "- 数据量不能太小，不然速度优势不大\n",
    "- 数据量不能太大，因为二分查找依赖数组结构，数据量大的话需要较大块的连续内存空间\n",
    "\n"
   ]
  },
  {
   "cell_type": "markdown",
   "metadata": {},
   "source": [
    "## 普通的二分查找"
   ]
  },
  {
   "cell_type": "code",
   "execution_count": 18,
   "metadata": {},
   "outputs": [
    {
     "name": "stdout",
     "output_type": "stream",
     "text": [
      "测试数据: [152, 227, 499, 699, 1213, 1243, 1297, 1335, 1357, 1462, 1496, 1548, 1580, 1690, 1693, 1785, 1821, 2170, 2208, 2221, 2242, 2258, 2281, 2344, 2524, 2579, 2724, 3038, 3237, 3331, 3381, 3461, 3520, 3553, 3624, 3737, 3886, 4025, 4031, 4064, 4170, 4296, 4333, 4380, 4391, 4471, 4623, 4652, 4692, 4711, 4883, 4935, 4941, 5033, 5063, 5131, 5402, 5432, 5544, 5749, 5785, 5913, 5943, 6042, 6129, 6226, 6260, 6323, 6541, 6721, 6769, 6795, 6876, 7047, 7482, 7494, 7532, 7567, 7572, 7619, 7689, 7832, 7933, 8007, 8023, 8055, 8235, 8292, 8708, 9224, 9374, 9458, 9485, 9507, 9667, 9676, 9708, 9909, 9981, 9999]\n",
      "\n",
      "查找数据: 9676 \n",
      "\n",
      "第1次测试，index: 79, 值7619\n",
      "第2次测试，index: 91, 值9458\n",
      "第3次测试，index: 93, 值9507\n",
      "第4次测试，index: 95, 值9676\n",
      "95 9676\n"
     ]
    }
   ],
   "source": [
    "from random import choices, choice\n",
    "\n",
    "\n",
    "_range = range(10000)\n",
    "numbers = 100\n",
    "data = list(sorted(set(choices(_range, k=numbers))))\n",
    "print('测试数据: %s\\n' % data)\n",
    "target = choice(data)\n",
    "print('查找数据: %s \\n' % target)\n",
    "\n",
    "prev = 0\n",
    "tail = len(data) - 1\n",
    "index = choice(range(prev, tail))\n",
    "times = 1\n",
    "while True:\n",
    "    print('第%s次测试，index: %s, 值%s' % (times, index, data[index]))\n",
    "    if data[index] == target:\n",
    "        break\n",
    "    elif target < data[index]:\n",
    "        tail = index\n",
    "    else:\n",
    "        prev = index\n",
    "    index = choice(range(prev, tail))\n",
    "    times += 1\n",
    "\n",
    "print(index, data[index])"
   ]
  },
  {
   "cell_type": "markdown",
   "metadata": {},
   "source": [
    "##  查找第一个给定的值"
   ]
  },
  {
   "cell_type": "code",
   "execution_count": 251,
   "metadata": {
    "scrolled": true
   },
   "outputs": [
    {
     "name": "stdout",
     "output_type": "stream",
     "text": [
      "测试数据: [(0, 0), (1, 0), (2, 0), (3, 1), (4, 1), (5, 3), (6, 3), (7, 3), (8, 3), (9, 4), (10, 4), (11, 4), (12, 5), (13, 5), (14, 8), (15, 9), (16, 9), (17, 10), (18, 10), (19, 10), (20, 11), (21, 12), (22, 12), (23, 13), (24, 13), (25, 14), (26, 14), (27, 15), (28, 15), (29, 16), (30, 16), (31, 17), (32, 17), (33, 18), (34, 18), (35, 18), (36, 19), (37, 19), (38, 19), (39, 20), (40, 21), (41, 21), (42, 22), (43, 23), (44, 24), (45, 25), (46, 25), (47, 25), (48, 26), (49, 27), (50, 27), (51, 29), (52, 30), (53, 30), (54, 30), (55, 31), (56, 31), (57, 31), (58, 32), (59, 32), (60, 33), (61, 35), (62, 36), (63, 36), (64, 37), (65, 37), (66, 37), (67, 38), (68, 38), (69, 39), (70, 39), (71, 39), (72, 39), (73, 40), (74, 40), (75, 40), (76, 41), (77, 41), (78, 41), (79, 42), (80, 43), (81, 43), (82, 44), (83, 45), (84, 45), (85, 45), (86, 45), (87, 46), (88, 46), (89, 46), (90, 47), (91, 47), (92, 47), (93, 48), (94, 48), (95, 48), (96, 48), (97, 49), (98, 49), (99, 49)]\n",
      "\n",
      "查找数据: 45 \n",
      "\n",
      "第1次查找,index:85,prev:0,tail:99,45\n",
      "第2次查找,index:58,prev:0,tail:99,32\n",
      "第3次查找,index:87,prev:58,tail:99,46\n",
      "第4次查找,index:71,prev:58,tail:87,39\n",
      "第5次查找,index:80,prev:71,tail:87,43\n",
      "第6次查找,index:83,prev:80,tail:87,45\n",
      "查找成功: data[83]\n"
     ]
    },
    {
     "data": {
      "text/plain": [
       "83"
      ]
     },
     "execution_count": 251,
     "metadata": {},
     "output_type": "execute_result"
    }
   ],
   "source": [
    "from random import choices, choice\n",
    "\n",
    "\n",
    "def binary_search(data, target):\n",
    "    prev = 0\n",
    "    tail = len(data) - 1\n",
    "    times = 1\n",
    "    while prev < tail:\n",
    "        index = choice(range(prev, tail))\n",
    "        msg = '第{ts}次查找,index:{i},prev:{p},tail:{t},{v}'\n",
    "        msg_kw = dict(ts=times, i=index, p=prev, t=tail, v=data[index])\n",
    "        print(msg.format(**msg_kw))\n",
    "        if data[prev] == target:\n",
    "            print('查找成功: data[%s]' % prev)\n",
    "            return prev   \n",
    "        elif (data[index-1] < target and data[index] == target):\n",
    "            print('查找成功: data[%s]' % index)\n",
    "            return index\n",
    "        elif prev + 1 == tail:\n",
    "            if data[tail] == target:\n",
    "                print('查找成功: data[%s]' % tail)\n",
    "                return tail\n",
    "            else:\n",
    "                break\n",
    "        elif data[index] < target:\n",
    "            prev = index\n",
    "        elif data[index] > target:\n",
    "            tail = index\n",
    "        times += 1\n",
    "    print('查找失败')\n",
    "\n",
    "\n",
    "_range = range(50)\n",
    "numbers = 100\n",
    "data = list(sorted(choices(_range, k=numbers)))\n",
    "print('测试数据: %s\\n' % [(k,v) for k,v in enumerate(data)])\n",
    "target = choice(data)\n",
    "print('查找数据: %s \\n' % target)\n",
    "\n",
    "binary_search(data, target)"
   ]
  },
  {
   "cell_type": "markdown",
   "metadata": {},
   "source": [
    "## 查找最后一个给定的值"
   ]
  },
  {
   "cell_type": "code",
   "execution_count": 248,
   "metadata": {},
   "outputs": [
    {
     "name": "stdout",
     "output_type": "stream",
     "text": [
      "测试数据: [(0, 0), (1, 0), (2, 0), (3, 0), (4, 0), (5, 0), (6, 0), (7, 0), (8, 0), (9, 0), (10, 1), (11, 1), (12, 1), (13, 1), (14, 1), (15, 1), (16, 1), (17, 1), (18, 1), (19, 2), (20, 2), (21, 2), (22, 2), (23, 2), (24, 2), (25, 2), (26, 2), (27, 2), (28, 3), (29, 3), (30, 3), (31, 3), (32, 3), (33, 3), (34, 3), (35, 3), (36, 3), (37, 3), (38, 3), (39, 3), (40, 3), (41, 3), (42, 4), (43, 4), (44, 4), (45, 4), (46, 4), (47, 5), (48, 5), (49, 5), (50, 5), (51, 5), (52, 5), (53, 5), (54, 5), (55, 5), (56, 5), (57, 5), (58, 5), (59, 5), (60, 6), (61, 6), (62, 6), (63, 6), (64, 6), (65, 6), (66, 6), (67, 6), (68, 6), (69, 6), (70, 6), (71, 7), (72, 7), (73, 7), (74, 7), (75, 7), (76, 7), (77, 7), (78, 7), (79, 7), (80, 7), (81, 7), (82, 7), (83, 7), (84, 8), (85, 8), (86, 8), (87, 8), (88, 8), (89, 8), (90, 8), (91, 8), (92, 9), (93, 9), (94, 9), (95, 9), (96, 9), (97, 9), (98, 9), (99, 9)]\n",
      "\n",
      "查找数据: 0 \n",
      "\n",
      "第1次查找,index:52,prev:0,tail:99,5\n",
      "第2次查找,index:51,prev:0,tail:52,5\n",
      "第3次查找,index:20,prev:0,tail:51,2\n",
      "第4次查找,index:9,prev:0,tail:20,0\n",
      "查找成功: data[9]\n"
     ]
    },
    {
     "data": {
      "text/plain": [
       "9"
      ]
     },
     "execution_count": 248,
     "metadata": {},
     "output_type": "execute_result"
    }
   ],
   "source": [
    "from random import choices, choice\n",
    "\n",
    "\n",
    "def binary_search(data, target):\n",
    "    prev = 0\n",
    "    tail = len(data) - 1\n",
    "    times = 1\n",
    "    while prev < tail:\n",
    "        index = choice(range(prev, tail))\n",
    "        msg = '第{ts}次查找,index:{i},prev:{p},tail:{t},{v}'\n",
    "        msg_kw = dict(ts=times, i=index, p=prev, t=tail, v=data[index])\n",
    "        print(msg.format(**msg_kw))\n",
    "        if data[tail] == target:\n",
    "            print('查找成功: data[%s]' % tail)\n",
    "            return prev   \n",
    "        elif (data[index+1] > target and data[index] == target):\n",
    "            print('查找成功: data[%s]' % index)\n",
    "            return index\n",
    "        elif data[index] < target:\n",
    "            prev = index\n",
    "        elif data[index] > target:\n",
    "            tail = index\n",
    "\n",
    "        times += 1\n",
    "    print('查找失败')\n",
    "\n",
    "\n",
    "_range = range(10)\n",
    "numbers = 100\n",
    "data = list(sorted(choices(_range, k=numbers)))\n",
    "print('测试数据: %s\\n' % [(k,v) for k,v in enumerate(data)])\n",
    "target = choice(data)\n",
    "print('查找数据: %s \\n' % target)\n",
    "\n",
    "binary_search(data, target)"
   ]
  },
  {
   "cell_type": "markdown",
   "metadata": {},
   "source": [
    "# 查找第一个大于等于给定值"
   ]
  },
  {
   "cell_type": "code",
   "execution_count": 275,
   "metadata": {
    "scrolled": true
   },
   "outputs": [
    {
     "name": "stdout",
     "output_type": "stream",
     "text": [
      "测试数据: [(0, 17), (1, 44), (2, 62), (3, 63), (4, 90)]\n",
      "\n",
      "查找数据: 18 \n",
      "\n",
      "第1次查找,index:0,prev:0,tail:4,17\n",
      "第2次查找,index:0,prev:0,tail:4,17\n",
      "第3次查找,index:1,prev:0,tail:4,44\n",
      "第4次查找,index:0,prev:0,tail:1,17\n",
      "查找成功: data[1]: 44\n"
     ]
    },
    {
     "data": {
      "text/plain": [
       "1"
      ]
     },
     "execution_count": 275,
     "metadata": {},
     "output_type": "execute_result"
    }
   ],
   "source": [
    "from random import choices, choice\n",
    "\n",
    "\n",
    "def binary_search(data, target):\n",
    "    prev = 0\n",
    "    tail = len(data) - 1\n",
    "    times = 1\n",
    "    while prev < tail:\n",
    "        index = choice(range(prev, tail))\n",
    "        msg = '第{ts}次查找,index:{i},prev:{p},tail:{t},{v}'\n",
    "        msg_kw = dict(ts=times, i=index, p=prev, t=tail, v=data[index])\n",
    "        print(msg.format(**msg_kw))\n",
    "        if data[prev] == target:\n",
    "            print('查找成功: data[%s]: %s' % (prev, data[prev]))\n",
    "            return prev   \n",
    "        elif (data[index-1] < target and data[index] == target):\n",
    "            print('查找成功: data[%s]: %s' % (index, data[index]))\n",
    "            return index\n",
    "        elif prev + 1 == tail:\n",
    "            if tail < len(data) - 1:\n",
    "                print('查找成功: data[%s]: %s' % (tail, data[tail]))\n",
    "                return tail\n",
    "            else:\n",
    "                break\n",
    "        elif data[index] < target:\n",
    "            prev = index\n",
    "        elif data[index] > target:\n",
    "            tail = index\n",
    "        times += 1\n",
    "    print('查找失败')\n",
    "\n",
    "\n",
    "_range = range(100)\n",
    "numbers = 5\n",
    "data = list(sorted(choices(_range, k=numbers)))\n",
    "print('测试数据: %s\\n' % [(k,v) for k,v in enumerate(data)])\n",
    "target = choice(data) + 1\n",
    "print('查找数据: %s \\n' % target)\n",
    "\n",
    "binary_search(data, target)"
   ]
  },
  {
   "cell_type": "markdown",
   "metadata": {},
   "source": [
    "# 查找最后一个小于等于给定值"
   ]
  },
  {
   "cell_type": "code",
   "execution_count": 294,
   "metadata": {},
   "outputs": [
    {
     "name": "stdout",
     "output_type": "stream",
     "text": [
      "测试数据: [(0, 3), (1, 6), (2, 19), (3, 23), (4, 27), (5, 32), (6, 33), (7, 42), (8, 43), (9, 45)]\n",
      "\n",
      "查找数据: 31 \n",
      "\n",
      "第1次查找,index:1,prev:0,tail:9,6\n",
      "第2次查找,index:6,prev:1,tail:9,33\n",
      "第3次查找,index:5,prev:1,tail:6,32\n",
      "第4次查找,index:4,prev:1,tail:5,27\n",
      "第5次查找,index:4,prev:4,tail:5,27\n",
      "查找成功: data[4]\n"
     ]
    },
    {
     "data": {
      "text/plain": [
       "4"
      ]
     },
     "execution_count": 294,
     "metadata": {},
     "output_type": "execute_result"
    }
   ],
   "source": [
    "from random import choices, choice\n",
    "\n",
    "\n",
    "def binary_search(data, target):\n",
    "    prev = 0\n",
    "    tail = len(data) - 1\n",
    "    times = 1\n",
    "    while prev < tail:\n",
    "        index = choice(range(prev, tail))\n",
    "        msg = '第{ts}次查找,index:{i},prev:{p},tail:{t},{v}'\n",
    "        msg_kw = dict(ts=times, i=index, p=prev, t=tail, v=data[index])\n",
    "        print(msg.format(**msg_kw))\n",
    "        if data[tail] == target:\n",
    "            print('查找成功: data[%s]' % tail)\n",
    "            return prev   \n",
    "        elif (data[index+1] > target and data[index] == target):\n",
    "            print('查找成功: data[%s]' % index)\n",
    "            return index\n",
    "        elif prev + 1 == tail:\n",
    "            if prev:\n",
    "                print('查找成功: data[%s]' % prev)\n",
    "                return prev\n",
    "            else:\n",
    "                break\n",
    "        elif data[index] < target:\n",
    "            prev = index\n",
    "        elif data[index] > target:\n",
    "            tail = index\n",
    "\n",
    "        times += 1\n",
    "    print('查找失败')\n",
    "\n",
    "\n",
    "_range = range(50)\n",
    "numbers = 10\n",
    "data = list(sorted(choices(_range, k=numbers)))\n",
    "print('测试数据: %s\\n' % [(k,v) for k,v in enumerate(data)])\n",
    "target = choice(data) -1\n",
    "print('查找数据: %s \\n' % target)\n",
    "\n",
    "binary_search(data, target)"
   ]
  }
 ],
 "metadata": {
  "kernelspec": {
   "display_name": "Python 3",
   "language": "python",
   "name": "python3"
  },
  "language_info": {
   "codemirror_mode": {
    "name": "ipython",
    "version": 3
   },
   "file_extension": ".py",
   "mimetype": "text/x-python",
   "name": "python",
   "nbconvert_exporter": "python",
   "pygments_lexer": "ipython3",
   "version": "3.6.5"
  }
 },
 "nbformat": 4,
 "nbformat_minor": 2
}
