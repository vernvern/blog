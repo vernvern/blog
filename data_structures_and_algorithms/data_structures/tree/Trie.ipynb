{
 "cells": [
  {
   "cell_type": "markdown",
   "metadata": {},
   "source": [
    "# Trie树\n",
    "\n",
    "又称前缀树或字典树。\n",
    "\n",
    "比较耗内存，但是做字符串匹配十分高效，时间复杂度是O(n)。\n",
    "\n",
    "常用于搜索提示。"
   ]
  },
  {
   "cell_type": "code",
   "execution_count": 43,
   "metadata": {},
   "outputs": [
    {
     "name": "stdout",
     "output_type": "stream",
     "text": [
      "find test: True\n",
      "find test1: False\n",
      "find test2: True\n"
     ]
    }
   ],
   "source": [
    "from copy import  deepcopy\n",
    "\n",
    "class Node:\n",
    "    def __init__(self, char, is_end_char=False):\n",
    "        self.char = char\n",
    "        self.is_end_char = is_end_char\n",
    "        self.children = dict()\n",
    "        \n",
    "    def __repr__(self):\n",
    "        return '{}'.format(self.children)\n",
    "\n",
    "class Trie:\n",
    "    def __init__(self):\n",
    "        self.root = Node('/')\n",
    "    \n",
    "    def insert(self, word):\n",
    "        node = self.root\n",
    "        for char in word:\n",
    "            if not node.children.get(char, False):\n",
    "                node.children[char] = Node(char)\n",
    "            node = node.children[char]\n",
    "        else:\n",
    "            node.is_end_char = True\n",
    "            \n",
    "    def find(self, word):\n",
    "        node = self.root\n",
    "        for x in word:\n",
    "            if x not in node.children:\n",
    "                break\n",
    "            else:\n",
    "                node = node.children[x]\n",
    "        else:\n",
    "            if node.is_end_char:\n",
    "                return True\n",
    "        return False\n",
    "    \n",
    "            \n",
    "trie = Trie()\n",
    "trie.insert('test')\n",
    "trie.insert('test2')\n",
    "trie.insert('test3')\n",
    "\n",
    "print('find test: %s' % trie.find('test'))\n",
    "print('find test1: %s' % trie.find('test1'))\n",
    "print('find test2: %s' % trie.find('test2'))"
   ]
  }
 ],
 "metadata": {
  "kernelspec": {
   "display_name": "Python 3",
   "language": "python",
   "name": "python3"
  },
  "language_info": {
   "codemirror_mode": {
    "name": "ipython",
    "version": 3
   },
   "file_extension": ".py",
   "mimetype": "text/x-python",
   "name": "python",
   "nbconvert_exporter": "python",
   "pygments_lexer": "ipython3",
   "version": "3.6.5"
  }
 },
 "nbformat": 4,
 "nbformat_minor": 2
}
