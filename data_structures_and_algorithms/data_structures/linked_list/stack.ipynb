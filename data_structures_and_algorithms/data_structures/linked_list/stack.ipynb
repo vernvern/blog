{
 "cells": [
  {
   "cell_type": "markdown",
   "metadata": {},
   "source": [
    "# 栈(Stack)\n",
    "\n",
    "\n",
    "只涉及在一端插入和删除数据的数据集合，并且满足后进先出、先进后出的特性。\n",
    "\n",
    "用数组实现的栈，我们叫作顺序栈\n",
    "用链表实现的栈，我们叫作链式栈\n"
   ]
  }
 ],
 "metadata": {
  "kernelspec": {
   "display_name": "Python 3",
   "language": "python",
   "name": "python3"
  },
  "language_info": {
   "codemirror_mode": {
    "name": "ipython",
    "version": 3
   },
   "file_extension": ".py",
   "mimetype": "text/x-python",
   "name": "python",
   "nbconvert_exporter": "python",
   "pygments_lexer": "ipython3",
   "version": "3.6.5"
  }
 },
 "nbformat": 4,
 "nbformat_minor": 2
}
