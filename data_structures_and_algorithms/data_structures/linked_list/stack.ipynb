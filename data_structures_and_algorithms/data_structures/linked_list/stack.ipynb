{
 "cells": [
  {
   "cell_type": "markdown",
   "metadata": {},
   "source": [
    "# 栈(Stack)\n",
    "\n",
    "\n",
    "只涉及在一端插入和删除数据的数据集合，并且满足**后进先出、先进后出**的特性。\n",
    "\n",
    "用**数组**实现的栈，我们叫作**顺序栈**\n",
    "\n",
    "用**链表**实现的栈，我们叫作**链式栈**\n"
   ]
  },
  {
   "cell_type": "markdown",
   "metadata": {},
   "source": [
    "## 链式栈"
   ]
  },
  {
   "cell_type": "code",
   "execution_count": 20,
   "metadata": {},
   "outputs": [
    {
     "name": "stdout",
     "output_type": "stream",
     "text": [
      "push: Node(2)\n",
      "push: Node(3)\n",
      "[Node(3), Node(2)]\n",
      "pop: Node(3)\n",
      "[Node(2)]\n"
     ]
    }
   ],
   "source": [
    "class Node:\n",
    "    def __init__(self, value, next_node=None):\n",
    "        self.value = value\n",
    "        self.next_node = next_node\n",
    "        \n",
    "    def __repr__(self):\n",
    "        return 'Node(%s)' % self.value\n",
    "\n",
    "\n",
    "class LinkListStack:\n",
    "    \n",
    "    def __init__(self):\n",
    "        self.head = Node(None)\n",
    "        \n",
    "    def __iter__(self):\n",
    "        node = self.head.next_node\n",
    "        while node:\n",
    "            yield node\n",
    "            node = node.next_node\n",
    "    \n",
    "    def __repr__(self):\n",
    "        _list = [x for x in self]\n",
    "        return str(_list)\n",
    "    \n",
    "    def pop(self):\n",
    "        node = self.head.next_node\n",
    "        if node is None:\n",
    "            raise TypeError('Nothing in LinkListStack object')\n",
    "        self.head.next_node = node.next_node\n",
    "        print('pop:', node)\n",
    "        return node\n",
    "    \n",
    "    def push(self, value):\n",
    "        node = Node(value)\n",
    "        node.next_node = self.head.next_node\n",
    "        self.head.next_node = node\n",
    "        print('push:', node)\n",
    "\n",
    "\n",
    "test = LinkListStack()\n",
    "test.push(2)\n",
    "test.push(3)\n",
    "print(test)\n",
    "test.pop()\n",
    "print(test)"
   ]
  },
  {
   "cell_type": "markdown",
   "metadata": {},
   "source": [
    "# 顺序栈"
   ]
  },
  {
   "cell_type": "code",
   "execution_count": 29,
   "metadata": {},
   "outputs": [
    {
     "name": "stdout",
     "output_type": "stream",
     "text": [
      "push: Node(2)\n",
      "push: Node(3)\n",
      "[Node(3), Node(2)]\n",
      "pop: Node(3)\n",
      "[Node(2)]\n"
     ]
    }
   ],
   "source": [
    "class Node:\n",
    "    def __init__(self, value):\n",
    "        self.value = value\n",
    "        \n",
    "    def __repr__(self):\n",
    "        return 'Node(%s)' % self.value\n",
    "\n",
    "    \n",
    "class ArrayStack:\n",
    "    def __init__(self):\n",
    "        self._list = []  # 偷懒直接用list\n",
    "        \n",
    "    def __repr__(self):\n",
    "        return str(self._list)\n",
    "    \n",
    "    def pop(self):\n",
    "        node = self._list.pop(0)\n",
    "        print('pop:', node)\n",
    "    \n",
    "    def push(self, value):\n",
    "        node = Node(value)\n",
    "        self._list.insert(0, node)\n",
    "        print('push:', node)\n",
    "    \n",
    "    \n",
    "test = ArrayStack()\n",
    "test.push(2)\n",
    "test.push(3)\n",
    "print(test)\n",
    "test.pop()\n",
    "print(test)"
   ]
  },
  {
   "cell_type": "code",
   "execution_count": 27,
   "metadata": {},
   "outputs": [],
   "source": []
  }
 ],
 "metadata": {
  "kernelspec": {
   "display_name": "Python 3",
   "language": "python",
   "name": "python3"
  },
  "language_info": {
   "codemirror_mode": {
    "name": "ipython",
    "version": 3
   },
   "file_extension": ".py",
   "mimetype": "text/x-python",
   "name": "python",
   "nbconvert_exporter": "python",
   "pygments_lexer": "ipython3",
   "version": "3.6.5"
  }
 },
 "nbformat": 4,
 "nbformat_minor": 2
}
