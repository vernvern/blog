{
 "cells": [
  {
   "cell_type": "markdown",
   "metadata": {},
   "source": [
    "# Array\n",
    "\n",
    "定义: 一种线性表数据结构。它用一组连续的内存空间，来存储一组具有相类型的数据。\n",
    "\n",
    "\n",
    "特点：\n",
    "\n",
    "- 支持**随机查询**（下标查询）\n",
    "- **随机查询**时间复杂度是 **O(1)**\n",
    "- **插入**和**删除** 操作，相对**查询**操作来说更低效，因为有可能要移动其他数据。\n"
   ]
  },
  {
   "cell_type": "markdown",
   "metadata": {},
   "source": [
    "## 查询\n",
    "\n",
    "下标应该理解成**偏移量**\n",
    "\n",
    "查找内存地址方式: `a[k]_address = base_address + k * type_size`"
   ]
  },
  {
   "cell_type": "markdown",
   "metadata": {},
   "source": [
    "## 插入\n",
    "```\n",
    " x\n",
    " |\n",
    "a b c d\n",
    "```\n",
    "---\n",
    "```\n",
    "\n",
    "  x\n",
    "  |\n",
    "a   b c d\n",
    "\n",
    "```\n",
    "---\n",
    "```\n",
    "\n",
    "a x b c d\n",
    "```\n"
   ]
  },
  {
   "cell_type": "markdown",
   "metadata": {},
   "source": [
    "## 删除\n",
    "\n",
    "~~a~~ b c d\n",
    "\n",
    " [] b c d\n",
    "  \n",
    " b c d"
   ]
  },
  {
   "cell_type": "markdown",
   "metadata": {},
   "source": [
    "参考:\n",
    "\n",
    "- [极客时间 数据结构与算法之美 05](https://time.geekbang.org/column/article/40961)"
   ]
  }
 ],
 "metadata": {
  "kernelspec": {
   "display_name": "Python 3",
   "language": "python",
   "name": "python3"
  },
  "language_info": {
   "codemirror_mode": {
    "name": "ipython",
    "version": 3
   },
   "file_extension": ".py",
   "mimetype": "text/x-python",
   "name": "python",
   "nbconvert_exporter": "python",
   "pygments_lexer": "ipython3",
   "version": "3.6.5"
  }
 },
 "nbformat": 4,
 "nbformat_minor": 2
}
