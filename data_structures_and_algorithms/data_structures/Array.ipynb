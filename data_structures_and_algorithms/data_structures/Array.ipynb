{
 "cells": [
  {
   "cell_type": "markdown",
   "metadata": {},
   "source": [
    "# Array\n",
    "\n",
    "定义: 一种线性表数据结构。它用一组连续的内存空间，来存储一组具有相类型的数据。\n",
    "\n",
    "\n",
    "特点：\n",
    "\n",
    "- 支持**随机查询**（下标查询）\n",
    "- **随机查询**时间复杂度是 **O(1)**\n",
    "- **插入**和**删除** 操作，相对**查询**操作来说更低效，因为有可能要移动其他数据。\n"
   ]
  }
 ],
 "metadata": {
  "kernelspec": {
   "display_name": "Python 3",
   "language": "python",
   "name": "python3"
  },
  "language_info": {
   "codemirror_mode": {
    "name": "ipython",
    "version": 3
   },
   "file_extension": ".py",
   "mimetype": "text/x-python",
   "name": "python",
   "nbconvert_exporter": "python",
   "pygments_lexer": "ipython3",
   "version": "3.6.5"
  }
 },
 "nbformat": 4,
 "nbformat_minor": 2
}
