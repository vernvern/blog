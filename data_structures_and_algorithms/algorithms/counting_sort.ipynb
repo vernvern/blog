{
 "cells": [
  {
   "cell_type": "markdown",
   "metadata": {},
   "source": [
    "# 计数排序 (counting sort)\n",
    "\n",
    "适用于数据量比较大但是数据范围不大的情况。\n",
    "\n",
    "栗子："
   ]
  },
  {
   "cell_type": "code",
   "execution_count": 89,
   "metadata": {
    "scrolled": false
   },
   "outputs": [
    {
     "name": "stdout",
     "output_type": "stream",
     "text": [
      "比如说有14个分数，数据范围是1～5: [1, 5, 3, 1, 2, 5, 1, 2, 3, 3, 2, 3, 4, 5]\n",
      "统计各个分值的个数: defaultdict(<class 'int'>, {1: 3, 5: 3, 3: 4, 2: 3, 4: 1})\n",
      "统计小于等于key分值的人数: {1: 3, 2: 6, 3: 10, 4: 11, 5: 14}\n",
      "排序： [1, 1, 1, 2, 2, 2, 3, 3, 3, 3, 4, 5, 5, 5] (index是排名，value是分数)\n"
     ]
    }
   ],
   "source": [
    "from collections import Counter, defaultdict\n",
    "from functools import  reduce\n",
    "\n",
    "\n",
    "data = [1,5,3,1,2,5,1,2,3,3, 2,3,4,5]\n",
    "_min, _max = min(data), max(data)\n",
    "\n",
    "print('比如说有%s个分数，数据范围是%s～%s: %s' % (len(data), _min, _max, data))\n",
    "\n",
    "counts = defaultdict(int)\n",
    "counts.update(Counter(data))\n",
    "print('统计各个分值的个数: %s' % counts)\n",
    "\n",
    "_range = range(_min, _max+1)\n",
    "counts = [(x, counts[x]) for x in _range]\n",
    "counts = {x: sum((x1[1] for x1 in counts[0:x])) for x in _range}\n",
    "print('统计小于等于key分值的人数: %s' % counts)\n",
    "\n",
    "result = [0 for s in range(len(data))]\n",
    "for x in data:\n",
    "    counts[x] -= 1\n",
    "    index = counts[x]\n",
    "    result[index] = x\n",
    "print('排序： %s (index是排名，value是分数)' % result)"
   ]
  }
 ],
 "metadata": {
  "kernelspec": {
   "display_name": "Python 3",
   "language": "python",
   "name": "python3"
  },
  "language_info": {
   "codemirror_mode": {
    "name": "ipython",
    "version": 3
   },
   "file_extension": ".py",
   "mimetype": "text/x-python",
   "name": "python",
   "nbconvert_exporter": "python",
   "pygments_lexer": "ipython3",
   "version": "3.6.5"
  }
 },
 "nbformat": 4,
 "nbformat_minor": 2
}
