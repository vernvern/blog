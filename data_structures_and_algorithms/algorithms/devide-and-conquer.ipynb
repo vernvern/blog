{
 "cells": [
  {
   "cell_type": "markdown",
   "metadata": {},
   "source": [
    "# 分治算法\n",
    "\n",
    "- 分解： 将原问题分解成一些子问题\n",
    "- 解决： 如果问题足够小就直接处理，否则递归处理问题\n",
    "- 合并： 合并子问题结果\n",
    "\n"
   ]
  },
  {
   "cell_type": "markdown",
   "metadata": {},
   "source": [
    "## 求一组数的逆序对个数\n",
    "\n",
    "例如：\n",
    "\n",
    "```\n",
    "_list = 1232  -> 1个：(_list[2], _list[3])\n",
    "_list = 123232  -> 3个：(_list[2], _list[3])、(_list[2], _list[5])、(_list[4], _list[5])\n",
    "```\n",
    "\n",
    "解决办法： 分治+归并排序\n",
    "\n",
    "```\n",
    "_list = 1232\n",
    "\n",
    "1 2 3 2  ->   1 2、 3 2\n",
    "\n",
    "1 2 -> 归并排序 -> 0个，排序后: 1 2\n",
    "3 2 -> 归并排序 -> 1个，排序后: 2 3\n",
    "1 2, 2 3 -> 归并排序 -> 0个，排序后: 1 2 3 4\n",
    "\n",
    "0 + 1 + 0 = 1个\n",
    "\n",
    "```\n",
    "\n"
   ]
  },
  {
   "cell_type": "code",
   "execution_count": 82,
   "metadata": {
    "scrolled": true
   },
   "outputs": [
    {
     "name": "stdout",
     "output_type": "stream",
     "text": [
      "list: [1, 2, 3, 1]\n",
      "list[0:2]: [1, 2]\n",
      "tmp:       [1, 2]\n",
      "list: [1, 2, 3, 1]\n",
      "0\n",
      "--------------------\n",
      "list: [1, 2, 3, 1]\n",
      "list[2:4]: [3, 1]\n",
      "tmp:       [1, 3]\n",
      "list: [1, 2, 1, 3]\n",
      "1\n",
      "--------------------\n",
      "list: [1, 2, 1, 3]\n",
      "list[0:4]: [1, 2, 1, 3]\n",
      "tmp:       [1, 1, 2, 3]\n",
      "list: [1, 1, 2, 3]\n",
      "2\n",
      "--------------------\n"
     ]
    },
    {
     "data": {
      "text/plain": [
       "2"
      ]
     },
     "execution_count": 82,
     "metadata": {},
     "output_type": "execute_result"
    }
   ],
   "source": [
    "class CountReverse:\n",
    "    def __init__(self, num):\n",
    "        self._list = [int(x) for x in str(num)]\n",
    "        self._count = 0\n",
    "\n",
    "    def count(self):\n",
    "        start = 0\n",
    "        end = len(self._list)\n",
    "        self._mergeSort(start, end)\n",
    "        return self._count\n",
    "    \n",
    "    def _mergeSort(self, start, end):\n",
    "        if start+1 >= end:\n",
    "            return\n",
    "\n",
    "        middle = (start+end) // 2\n",
    "        \n",
    "        self._mergeSort(start, middle)\n",
    "        self._mergeSort(middle, end)\n",
    "\n",
    "        self._merge(start, middle, end)\n",
    "    \n",
    "    def _merge(self, start, middle, end):\n",
    "        print('list: %s' % self._list)\n",
    "\n",
    "        left = self._list[start:middle]\n",
    "        right = self._list[middle:end]\n",
    "        tmp = []\n",
    "        print('list[%s:%s]: %s' %(start, end, self._list[start:end]))\n",
    "        \n",
    "        while(left and right):\n",
    "            \n",
    "            if left[0] > right[0]:\n",
    "                self._count += 1\n",
    "                tmp.append(right.pop(0))\n",
    "            else:\n",
    "                tmp.append(left.pop(0))\n",
    "        \n",
    "        tmp.extend(left)\n",
    "            \n",
    "        tmp.extend(right)\n",
    "        print('tmp:       %s' % tmp)\n",
    "            \n",
    "        for k, v in zip(range(start, end), tmp):\n",
    "            self._list[k] = v\n",
    "        print('list: %s' % self._list)\n",
    "        print(self._count)\n",
    "        print('-'*20)\n",
    "        \n",
    "        \n",
    "test = CountReverse(1231)\n",
    "test.count() "
   ]
  }
 ],
 "metadata": {
  "kernelspec": {
   "display_name": "Python 3",
   "language": "python",
   "name": "python3"
  },
  "language_info": {
   "codemirror_mode": {
    "name": "ipython",
    "version": 3
   },
   "file_extension": ".py",
   "mimetype": "text/x-python",
   "name": "python",
   "nbconvert_exporter": "python",
   "pygments_lexer": "ipython3",
   "version": "3.6.5"
  }
 },
 "nbformat": 4,
 "nbformat_minor": 2
}
