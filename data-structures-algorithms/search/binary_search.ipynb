{
 "cells": [
  {
   "cell_type": "markdown",
   "metadata": {},
   "source": [
    "#  二分查找 (binary search)\n",
    "\n",
    "条件：\n",
    "\n",
    "- 数据格式是数组结构或者类似结构\n",
    "- 数据必须有序\n",
    "\n",
    "适用场景：\n",
    "\n",
    "- 数据量不能太小，不然速度优势不大\n",
    "- 数据量不能太大，因为二分查找依赖数组结构，数据量大的话需要较大块的连续内存空间\n",
    "\n"
   ]
  },
  {
   "cell_type": "markdown",
   "metadata": {},
   "source": [
    "## 普通的二分查找"
   ]
  },
  {
   "cell_type": "code",
   "execution_count": 18,
   "metadata": {},
   "outputs": [
    {
     "name": "stdout",
     "output_type": "stream",
     "text": [
      "测试数据: [152, 227, 499, 699, 1213, 1243, 1297, 1335, 1357, 1462, 1496, 1548, 1580, 1690, 1693, 1785, 1821, 2170, 2208, 2221, 2242, 2258, 2281, 2344, 2524, 2579, 2724, 3038, 3237, 3331, 3381, 3461, 3520, 3553, 3624, 3737, 3886, 4025, 4031, 4064, 4170, 4296, 4333, 4380, 4391, 4471, 4623, 4652, 4692, 4711, 4883, 4935, 4941, 5033, 5063, 5131, 5402, 5432, 5544, 5749, 5785, 5913, 5943, 6042, 6129, 6226, 6260, 6323, 6541, 6721, 6769, 6795, 6876, 7047, 7482, 7494, 7532, 7567, 7572, 7619, 7689, 7832, 7933, 8007, 8023, 8055, 8235, 8292, 8708, 9224, 9374, 9458, 9485, 9507, 9667, 9676, 9708, 9909, 9981, 9999]\n",
      "\n",
      "查找数据: 9676 \n",
      "\n",
      "第1次测试，index: 79, 值7619\n",
      "第2次测试，index: 91, 值9458\n",
      "第3次测试，index: 93, 值9507\n",
      "第4次测试，index: 95, 值9676\n",
      "95 9676\n"
     ]
    }
   ],
   "source": [
    "from random import choices, choice\n",
    "\n",
    "\n",
    "_range = range(10000)\n",
    "numbers = 100\n",
    "data = list(sorted(set(choices(_range, k=numbers))))\n",
    "print('测试数据: %s\\n' % data)\n",
    "target = choice(data)\n",
    "print('查找数据: %s \\n' % target)\n",
    "\n",
    "prev = 0\n",
    "tail = len(data) - 1\n",
    "index = choice(range(prev, tail))\n",
    "times = 1\n",
    "while True:\n",
    "    print('第%s次测试，index: %s, 值%s' % (times, index, data[index]))\n",
    "    if data[index] == target:\n",
    "        break\n",
    "    elif target < data[index]:\n",
    "        tail = index\n",
    "    else:\n",
    "        prev = index\n",
    "    index = choice(range(prev, tail))\n",
    "    times += 1\n",
    "\n",
    "print(index, data[index])"
   ]
  },
  {
   "cell_type": "markdown",
   "metadata": {},
   "source": [
    "##  查找第一个给定的值"
   ]
  },
  {
   "cell_type": "code",
   "execution_count": 49,
   "metadata": {
    "scrolled": true
   },
   "outputs": [
    {
     "name": "stdout",
     "output_type": "stream",
     "text": [
      "测试数据: [(0, 0), (1, 0), (2, 0), (3, 0), (4, 1), (5, 3), (6, 3), (7, 3), (8, 4), (9, 4), (10, 6), (11, 6), (12, 6), (13, 7), (14, 7), (15, 7), (16, 8), (17, 8), (18, 8), (19, 8), (20, 9), (21, 9), (22, 9), (23, 9), (24, 11), (25, 11), (26, 12), (27, 12), (28, 12), (29, 12), (30, 14), (31, 14), (32, 14), (33, 14), (34, 14), (35, 16), (36, 16), (37, 18), (38, 20), (39, 20), (40, 20), (41, 21), (42, 22), (43, 22), (44, 23), (45, 23), (46, 23), (47, 24), (48, 24), (49, 24), (50, 25), (51, 25), (52, 25), (53, 25), (54, 26), (55, 26), (56, 26), (57, 27), (58, 28), (59, 29), (60, 30), (61, 30), (62, 30), (63, 32), (64, 32), (65, 32), (66, 33), (67, 34), (68, 34), (69, 35), (70, 35), (71, 36), (72, 37), (73, 38), (74, 38), (75, 38), (76, 39), (77, 39), (78, 39), (79, 41), (80, 41), (81, 42), (82, 42), (83, 42), (84, 43), (85, 43), (86, 43), (87, 43), (88, 43), (89, 43), (90, 43), (91, 44), (92, 44), (93, 45), (94, 46), (95, 47), (96, 47), (97, 48), (98, 48), (99, 49)]\n",
      "\n",
      "查找数据: 8 \n",
      "\n",
      "第1次查找,index:97,prev:0,tail:100,48\n",
      "第2次查找,index:1,prev:0,tail:97,0\n",
      "第3次查找,index:41,prev:1,tail:97,21\n",
      "第4次查找,index:1,prev:1,tail:41,0\n",
      "第5次查找,index:1,prev:1,tail:41,0\n",
      "第6次查找,index:5,prev:1,tail:41,3\n",
      "第7次查找,index:9,prev:5,tail:41,4\n",
      "第8次查找,index:10,prev:9,tail:41,6\n",
      "第9次查找,index:19,prev:10,tail:41,8\n",
      "第10次查找,index:16,prev:10,tail:19,8\n",
      "查找成功: data[16]\n"
     ]
    },
    {
     "data": {
      "text/plain": [
       "16"
      ]
     },
     "execution_count": 49,
     "metadata": {},
     "output_type": "execute_result"
    }
   ],
   "source": [
    "from random import choices, choice\n",
    "\n",
    "\n",
    "def binary_search(data, target):\n",
    "    prev = 0\n",
    "    tail = len(data)\n",
    "    times = 1\n",
    "    while prev < tail:\n",
    "        index = choice(range(prev, tail))\n",
    "        msg = '第{ts}次查找,index:{i},prev:{p},tail:{t},{v}'\n",
    "        msg_kw = dict(ts=times, i=index, p=prev, t=tail, v=data[index])\n",
    "        print(msg.format(**msg_kw))\n",
    "        \n",
    "        # 优先排除不等的情况\n",
    "        # 查找到相等的时候，只有两种情况需要返回：\n",
    "        #   1. index == 0，数组第一个值是目标值\n",
    "        #   2. data[index-1] < data[index], index前面的值比目标值小\n",
    "        if data[index] < target:\n",
    "            prev = index\n",
    "        elif data[index] > target:\n",
    "            tail = index\n",
    "        else:\n",
    "            if index == 0 or data[index-1] < data[index]:\n",
    "                print('查找成功: data[%s]' % index)\n",
    "                return index\n",
    "            \n",
    "            else:\n",
    "                tail = index\n",
    "            \n",
    "        times += 1\n",
    "    print('查找失败')\n",
    "\n",
    "\n",
    "_range = range(50)\n",
    "numbers = 100\n",
    "data = list(sorted(choices(_range, k=numbers)))\n",
    "print('测试数据: %s\\n' % [(k,v) for k,v in enumerate(data)])\n",
    "target = choice(data)\n",
    "print('查找数据: %s \\n' % target)\n",
    "\n",
    "binary_search(data, target)"
   ]
  },
  {
   "cell_type": "markdown",
   "metadata": {},
   "source": [
    "## 查找最后一个给定的值"
   ]
  },
  {
   "cell_type": "code",
   "execution_count": 113,
   "metadata": {},
   "outputs": [
    {
     "name": "stdout",
     "output_type": "stream",
     "text": [
      "测试数据: [(0, 0), (1, 0), (2, 0), (3, 0), (4, 0), (5, 0), (6, 0), (7, 0), (8, 0), (9, 0), (10, 0), (11, 0), (12, 0), (13, 0), (14, 0), (15, 1), (16, 1), (17, 1), (18, 1), (19, 1), (20, 1), (21, 1), (22, 1), (23, 1), (24, 1), (25, 2), (26, 2), (27, 2), (28, 2), (29, 2), (30, 2), (31, 2), (32, 2), (33, 2), (34, 2), (35, 2), (36, 3), (37, 3), (38, 3), (39, 3), (40, 3), (41, 3), (42, 3), (43, 4), (44, 4), (45, 4), (46, 4), (47, 4), (48, 4), (49, 4), (50, 4), (51, 5), (52, 5), (53, 5), (54, 5), (55, 5), (56, 5), (57, 5), (58, 5), (59, 5), (60, 6), (61, 6), (62, 6), (63, 6), (64, 6), (65, 6), (66, 6), (67, 7), (68, 7), (69, 7), (70, 7), (71, 7), (72, 7), (73, 7), (74, 7), (75, 7), (76, 7), (77, 7), (78, 7), (79, 7), (80, 7), (81, 7), (82, 8), (83, 8), (84, 8), (85, 8), (86, 8), (87, 8), (88, 9), (89, 9), (90, 9), (91, 9), (92, 9), (93, 9), (94, 9), (95, 9), (96, 9), (97, 9), (98, 9), (99, 9)]\n",
      "\n",
      "查找数据: 9 \n",
      "\n",
      "第1次查找,index:82,prev:0,tail:99,8\n",
      "第2次查找,index:95,prev:82,tail:99,9\n",
      "查找成功: data[99]\n"
     ]
    },
    {
     "data": {
      "text/plain": [
       "99"
      ]
     },
     "execution_count": 113,
     "metadata": {},
     "output_type": "execute_result"
    }
   ],
   "source": [
    "from random import choices, choice\n",
    "\n",
    "\n",
    "def binary_search(data, target):\n",
    "    prev = 0\n",
    "    tail = len(data) - 1\n",
    "    times = 1\n",
    "    while prev < tail:\n",
    "        index = choice(range(prev, tail))\n",
    "        msg = '第{ts}次查找,index:{i},prev:{p},tail:{t},{v}'\n",
    "        msg_kw = dict(ts=times, i=index, p=prev, t=tail, v=data[index])\n",
    "        print(msg.format(**msg_kw))\n",
    "        # 优先排除不等的情况\n",
    "        # 查找到相等的时候，只有两种情况需要返回：\n",
    "        #   1. tail == len(data) - 1，数组最后一个值是目标值\n",
    "        #   2. data[index+1] > data[index], index后面的值比目标值大\n",
    "        if data[index] < target:\n",
    "            prev = index\n",
    "        elif data[index] > target:\n",
    "            tail = index\n",
    "        else:\n",
    "            if tail == len(data) - 1:\n",
    "                print('查找成功: data[%s]' % tail)\n",
    "                return tail\n",
    "            elif index == len(data) or data[index+1] > data[index]:\n",
    "                print('查找成功: data[%s]' % index)\n",
    "                return prev   \n",
    "            else:\n",
    "                prev = index+1\n",
    "\n",
    "        times += 1\n",
    "    print('查找失败')\n",
    "\n",
    "\n",
    "_range = range(10)\n",
    "numbers = 100\n",
    "data = list(sorted(choices(_range, k=numbers)))\n",
    "print('测试数据: %s\\n' % [(k,v) for k,v in enumerate(data)])\n",
    "target = choice(data)\n",
    "print('查找数据: %s \\n' % target)\n",
    "\n",
    "binary_search(data, target)"
   ]
  },
  {
   "cell_type": "markdown",
   "metadata": {},
   "source": [
    "# 查找第一个大于等于给定值"
   ]
  },
  {
   "cell_type": "code",
   "execution_count": 124,
   "metadata": {
    "scrolled": true
   },
   "outputs": [
    {
     "name": "stdout",
     "output_type": "stream",
     "text": [
      "测试数据: [(0, 0), (1, 0), (2, 0), (3, 1), (4, 1), (5, 1), (6, 2), (7, 3), (8, 3), (9, 4)]\n",
      "\n",
      "查找数据: 5 \n",
      "\n",
      "查找失败\n"
     ]
    },
    {
     "data": {
      "text/plain": [
       "False"
      ]
     },
     "execution_count": 124,
     "metadata": {},
     "output_type": "execute_result"
    }
   ],
   "source": [
    "from random import choices, choice\n",
    "\n",
    "\n",
    "def binary_search(data, target):\n",
    "    prev = 0\n",
    "    tail = len(data)\n",
    "    times = 0\n",
    "    if target in range(data[0], data[-1]):\n",
    "        while prev < tail:\n",
    "            index = choice(range(prev, tail))\n",
    "            times += 1\n",
    "            msg = '第{ts}次查找,index:{i},prev:{p},tail:{t},{v}'\n",
    "            msg_kw = dict(ts=times, i=index, p=prev, t=tail, v=data[index])\n",
    "            print(msg.format(**msg_kw))\n",
    "            # data[prev] == target说明找到了第一个等于给定值的index是prev\n",
    "            # data[index-1] < target and data[index] >= target找到了第一个大于等于给定值的index\n",
    "            # data[index] < target削掉左区间\n",
    "            # data[index] > target 削掉右区间\n",
    "            # 剩下的情况只有data[index] == target and data[index-1] == target的情况， 削掉右区间(只有tail一个)\n",
    "            # 最后两个合并成else\n",
    "            if data[prev] == target:\n",
    "                print('查找成功: data[%s]: %s' % (prev, data[prev]))\n",
    "                return prev \n",
    "            elif data[index-1] < target and data[index] >= target:\n",
    "                print('查找成功: data[%s]: %s' % (index, data[index]))\n",
    "                return index\n",
    "            elif data[index] < target:\n",
    "                prev = index\n",
    "            else:\n",
    "                tail = index\n",
    "    print('查找失败')\n",
    "    return False\n",
    "\n",
    "\n",
    "_range = range(5)\n",
    "numbers = 10\n",
    "data = list(sorted(choices(_range, k=numbers)))\n",
    "print('测试数据: %s\\n' % [(k,v) for k,v in enumerate(data)])\n",
    "target = choice(data) + 1\n",
    "print('查找数据: %s \\n' % target)\n",
    "\n",
    "binary_search(data, target)"
   ]
  },
  {
   "cell_type": "markdown",
   "metadata": {},
   "source": [
    "# 查找最后一个小于等于给定值"
   ]
  },
  {
   "cell_type": "code",
   "execution_count": 7,
   "metadata": {},
   "outputs": [
    {
     "name": "stdout",
     "output_type": "stream",
     "text": [
      "测试数据: [(0, 10), (1, 18), (2, 27), (3, 29), (4, 64), (5, 83), (6, 86), (7, 90), (8, 91), (9, 98)]\n",
      "\n",
      "查找数据: 28\n",
      "\n",
      "第1次查找,index:4,prev:0,tail:10,64\n",
      "第2次查找,index:3,prev:0,tail:4,29\n",
      "第3次查找,index:0,prev:0,tail:3,10\n",
      "第4次查找,index:0,prev:0,tail:3,10\n",
      "第5次查找,index:2,prev:0,tail:3,27\n",
      "第6次查找,index:2,prev:2,tail:3,27\n",
      "查找成功: data[2]\n"
     ]
    },
    {
     "data": {
      "text/plain": [
       "2"
      ]
     },
     "execution_count": 7,
     "metadata": {},
     "output_type": "execute_result"
    }
   ],
   "source": [
    "from random import choices, choice\n",
    "\n",
    "\n",
    "def binary_search(data, target):\n",
    "    prev = 0\n",
    "    tail = len(data)\n",
    "    times = 0\n",
    "    while prev < tail and data[prev] <= target:\n",
    "        times += 1\n",
    "        index = choice(range(prev, tail))\n",
    "        msg = '第{ts}次查找,index:{i},prev:{p},tail:{t},{v}'\n",
    "        msg_kw = dict(ts=times, i=index, p=prev, t=tail, v=data[index])\n",
    "        print(msg.format(**msg_kw))\n",
    "        # data[index] == target and prev + 1 != tail 削掉左边区间，继续查找最后一个等于给定值的数据\n",
    "        # data[index] > target 削掉右边区间\n",
    "        # data[prev] == target 查找数据区间中最左边等于给定值\n",
    "        # prev + 1 == tail 是满足“小于等于给定值”的数据区间只剩一位\n",
    "        # 剩下的情况是 data[index] < target， 削掉左边区间\n",
    "        if data[index] == target and prev + 1 != tail:\n",
    "            prev = index\n",
    "        elif data[index] > target:\n",
    "            tail = index\n",
    "        elif data[prev] == target or prev + 1 == tail:\n",
    "            print('查找成功: data[%s]' % prev)\n",
    "            return prev\n",
    "        else:\n",
    "            prev = index\n",
    "\n",
    "    print('查找失败')\n",
    "\n",
    "\n",
    "_range = range(100)\n",
    "numbers = 10\n",
    "data = list(sorted(choices(_range, k=numbers)))\n",
    "print('测试数据: %s\\n' % [(k,v) for k,v in enumerate(data)])\n",
    "target = choice(data) +1\n",
    "print('查找数据: %s\\n' % target)\n",
    "\n",
    "binary_search(data, target)"
   ]
  }
 ],
 "metadata": {
  "kernelspec": {
   "display_name": "Python 3",
   "language": "python",
   "name": "python3"
  },
  "language_info": {
   "codemirror_mode": {
    "name": "ipython",
    "version": 3
   },
   "file_extension": ".py",
   "mimetype": "text/x-python",
   "name": "python",
   "nbconvert_exporter": "python",
   "pygments_lexer": "ipython3",
   "version": "3.6.5"
  }
 },
 "nbformat": 4,
 "nbformat_minor": 2
}
