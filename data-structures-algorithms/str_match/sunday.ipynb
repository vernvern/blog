{
 "cells": [
  {
   "cell_type": "markdown",
   "metadata": {},
   "source": [
    "# sunday算法\n",
    "\n",
    "使用主串中参与匹配的最后一个字符的下一个字符，去模式串(共n个)中查找第一个出现的这个字符，如果模式串中有，滑动index位，如果没有，滑动n+1位。\n",
    "\n",
    "```\n",
    "'test test sunday'\n",
    "'sunday'                      - e not in 'sunday' --> move 6+1  （n+1)\n",
    "-------------------------------------------------------\n",
    "'test test sunday'\n",
    "'       sunday'               - d in 'sunday' --> move 3  (index)\n",
    "-------------------------------------------------------\n",
    "'test test sunday'\n",
    "'          sunday'            - match\n",
    "```\n",
    "\n",
    "据说比[BM算法](./boyer_moore.ipynb)还要快\n"
   ]
  },
  {
   "cell_type": "code",
   "execution_count": 30,
   "metadata": {},
   "outputs": [
    {
     "name": "stdout",
     "output_type": "stream",
     "text": [
      "index: 0\n",
      "s s\n",
      "u u\n",
      "n n\n",
      "d d\n",
      "a a\n",
      "y y\n",
      "True\n",
      "--------------------\n",
      "index: 0\n",
      "s t\n",
      "index: 7\n",
      "s s\n",
      "u t\n",
      "index: 10\n",
      "s s\n",
      "u u\n",
      "n n\n",
      "d d\n",
      "a a\n",
      "y y\n",
      "True\n"
     ]
    }
   ],
   "source": [
    "def sunday(base, expect):\n",
    "    index = 0\n",
    "    base_len = len(base)\n",
    "    expect_len = len(expect)\n",
    "    while index <= (base_len - expect_len):\n",
    "        print('index:', index)\n",
    "        for k, char in enumerate(expect):\n",
    "            print(char, base[index+k])\n",
    "            if char != base[index+k]:\n",
    "                break\n",
    "        else:\n",
    "            return True\n",
    "\n",
    "        next_char_in_expect = expect.find(base[index+expect_len])\n",
    "        if next_char_in_expect > -1:\n",
    "            index += next_char_in_expect\n",
    "        else:\n",
    "            index += expect_len+1\n",
    "\n",
    "    return False\n",
    "\n",
    "\n",
    "print(sunday('sunday', 'sunday'))\n",
    "print('-'*20)\n",
    "print(sunday('test test sunday', 'sunday'))"
   ]
  }
 ],
 "metadata": {
  "kernelspec": {
   "display_name": "Python 3",
   "language": "python",
   "name": "python3"
  },
  "language_info": {
   "codemirror_mode": {
    "name": "ipython",
    "version": 3
   },
   "file_extension": ".py",
   "mimetype": "text/x-python",
   "name": "python",
   "nbconvert_exporter": "python",
   "pygments_lexer": "ipython3",
   "version": "3.6.5"
  }
 },
 "nbformat": 4,
 "nbformat_minor": 2
}
