{
 "cells": [
  {
   "cell_type": "markdown",
   "metadata": {},
   "source": [
    "# BM 算法(Boyer Moore)\n",
    "\n",
    "> Boyer-Moore算法的执行时间同样线性依赖于被搜索字符串的大小，但是通常仅为其它算法的一小部分：它不需要对被搜索的字符串中的字符进行逐一比较，而会跳过其中某些部分。通常搜索关键字越长，算法速度越快。它的效率来自于这样的事实：对于每一次失败的匹配尝试，算法都能够使用这些信息来排除尽可能多的无法匹配的位置。\n",
    "\n",
    "> [wiki](https://zh.wikipedia.org/wiki/Boyer-Moore%E5%AD%97%E7%AC%A6%E4%B8%B2%E6%90%9C%E7%B4%A2%E7%AE%97%E6%B3%95)"
   ]
  },
  {
   "cell_type": "code",
   "execution_count": 197,
   "metadata": {
    "scrolled": false
   },
   "outputs": [
    {
     "name": "stdout",
     "output_type": "stream",
     "text": [
      "-------------------- new case --------------------\n",
      "base[0:3]: abc\n",
      "expect: abd\n",
      "bad characher: base[2]: c\n",
      "good suffix: base[3:3]: \n",
      "bad_characher_move: 3\n",
      "good_suffix_move: -2\n",
      "--------------------\n",
      "base[3:6]: aca\n",
      "expect: abd\n",
      "bad characher: base[5]: a\n",
      "good suffix: base[6:6]: \n",
      "bad_characher_move: 2\n",
      "good_suffix_move: -2\n",
      "--------------------\n",
      "base[5:8]: abd\n",
      "expect: abd\n",
      "\n",
      " match: base[5:8]\n",
      "\n",
      "-------------------- new case --------------------\n",
      "base[0:7]: acabcbc\n",
      "expect: abbcabc\n",
      "bad characher: base[4]: c\n",
      "good suffix: base[5:7]: bc\n",
      "bad_characher_move: 1\n",
      "good_suffix_move: 3\n",
      "--------------------\n",
      "base[3:10]: bcbcbac\n",
      "expect: abbcabc\n",
      "bad characher: base[8]: a\n",
      "good suffix: base[9:10]: c\n",
      "bad_characher_move: 5\n",
      "good_suffix_move: 4\n",
      "--------------------\n",
      "not match \n",
      "\n",
      "-------------------- new case --------------------\n",
      "base[0:7]: acabcbc\n",
      "expect: cbacabc\n",
      "bad characher: base[4]: c\n",
      "good suffix: base[5:7]: bc\n",
      "好后缀匹配目标字符串头部:\n",
      "- bc\n",
      "- c\n",
      "bad_characher_move: 4\n",
      "good_suffix_move: 6\n",
      "--------------------\n",
      "base[6:13]: cbacabc\n",
      "expect: cbacabc\n",
      "\n",
      " match: base[6:13]\n",
      "\n"
     ]
    },
    {
     "data": {
      "text/plain": [
       "range(6, 13)"
      ]
     },
     "execution_count": 197,
     "metadata": {},
     "output_type": "execute_result"
    }
   ],
   "source": [
    "def boyer_moore(base, expect):\n",
    "    print('-'*20, 'new case', '-'*20)\n",
    "    index = 0\n",
    "    \n",
    "    # 目标字符串每个字符第一次出现的位置\n",
    "    # 用于优化坏字符匹配的速度\n",
    "    expect_index_dict = {}\n",
    "    for k, v in enumerate(expect):\n",
    "        expect_index_dict.setdefault(v, k)\n",
    "\n",
    "    base_len = len(base)\n",
    "    expect_len = len(expect)\n",
    "    expect_range = range(0, expect_len)\n",
    "    while index+expect_len <= base_len:\n",
    "        base_range = range(index, index+expect_len)\n",
    "\n",
    "        print('base[%s:%s]: %s' % (base_range.start, base_range.stop, base[base_range.start:base_range.stop]))\n",
    "        print('expect: %s' % expect)\n",
    "\n",
    "        # 匹配\n",
    "        for x, y in zip(base_range[::-1], expect_range[::-1]):\n",
    "            # 匹配失败\n",
    "            if base[x] != expect[y]:\n",
    "                break\n",
    "        else:\n",
    "            # 匹配成功\n",
    "            print('\\n', 'match: base[%s:%s]\\n' % (base_range.start, base_range.stop))\n",
    "            return base_range\n",
    "        \n",
    "        # 坏字符\n",
    "        bad_characher = base[x]\n",
    "        bad_characher_move = y - expect_index_dict.get(bad_characher, -1)\n",
    "        print('bad characher: base[%s]: %s' % (x, bad_characher))\n",
    "\n",
    "        # 好后缀\n",
    "        good_suffix = base[x+1:base_range.stop]\n",
    "        print('good suffix: base[%s:%s]: %s' % (x+1, base_range.stop, good_suffix))\n",
    "        good_suffix_move = expect.find(good_suffix)+1 if good_suffix else -2\n",
    "        if good_suffix_move > x:\n",
    "            good_suffix_move = expect_len\n",
    "            print('好后缀匹配目标字符串头部:')\n",
    "            for k, v in enumerate(good_suffix):\n",
    "                print('- %s' % good_suffix[k:])\n",
    "                if expect.startswith(good_suffix[k:]):\n",
    "                    good_suffix_move -= k\n",
    "                    break\n",
    "\n",
    "        print('bad_characher_move: %s' % bad_characher_move)\n",
    "        print('good_suffix_move: %s' % good_suffix_move)\n",
    "        index += max(good_suffix_move, bad_characher_move)\n",
    "\n",
    "        print('-'*20)\n",
    "    print('not match \\n')\n",
    "\n",
    "\n",
    "boyer_moore('abcacabdc', 'abd')\n",
    "boyer_moore('acabcbcbacabc', 'abbcabc')\n",
    "boyer_moore('acabcbcbacabc', 'cbacabc')"
   ]
  }
 ],
 "metadata": {
  "kernelspec": {
   "display_name": "Python 3",
   "language": "python",
   "name": "python3"
  },
  "language_info": {
   "codemirror_mode": {
    "name": "ipython",
    "version": 3
   },
   "file_extension": ".py",
   "mimetype": "text/x-python",
   "name": "python",
   "nbconvert_exporter": "python",
   "pygments_lexer": "ipython3",
   "version": "3.6.5"
  }
 },
 "nbformat": 4,
 "nbformat_minor": 2
}
