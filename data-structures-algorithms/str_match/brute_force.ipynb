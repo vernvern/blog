{
 "cells": [
  {
   "cell_type": "markdown",
   "metadata": {},
   "source": [
    "## 暴力匹配算法(brute force算法、BF算法、朴素匹配算法)\n",
    "\n",
    "\n",
    "> 检查起始位置分别是 0、1、2…n-m 且长度m 的 n-m+1 个子串，看有没有跟模式串匹配的。\n",
    "\n",
    "> -- [极客时间-数据结构与算法之美](https://time.geekbang.org/column/article/71187)"
   ]
  },
  {
   "cell_type": "code",
   "execution_count": 29,
   "metadata": {},
   "outputs": [
    {
     "name": "stdout",
     "output_type": "stream",
     "text": [
      "ad\n",
      "da\n"
     ]
    },
    {
     "data": {
      "text/plain": [
       "(1, 3)"
      ]
     },
     "execution_count": 29,
     "metadata": {},
     "output_type": "execute_result"
    }
   ],
   "source": [
    "def brute_force(string, expect):\n",
    "    string_len = len(string)\n",
    "    expect_len = len(expect)\n",
    "    for x in range(string_len - expect_len+1):\n",
    "        print(string[x:x+expect_len])\n",
    "        for y in range(expect_len):\n",
    "            if string[x+y] != expect[y]:\n",
    "                break\n",
    "        else:\n",
    "            return (x, x+expect_len)\n",
    "    return False\n",
    "\n",
    "\n",
    "brute_force('ada', 'da')"
   ]
  }
 ],
 "metadata": {
  "kernelspec": {
   "display_name": "Python 3",
   "language": "python",
   "name": "python3"
  },
  "language_info": {
   "codemirror_mode": {
    "name": "ipython",
    "version": 3
   },
   "file_extension": ".py",
   "mimetype": "text/x-python",
   "name": "python",
   "nbconvert_exporter": "python",
   "pygments_lexer": "ipython3",
   "version": "3.6.5"
  }
 },
 "nbformat": 4,
 "nbformat_minor": 2
}
