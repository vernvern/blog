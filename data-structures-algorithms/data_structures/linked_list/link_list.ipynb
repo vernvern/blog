{
 "cells": [
  {
   "cell_type": "markdown",
   "metadata": {},
   "source": [
    "# 单链表\n",
    "\n",
    "\n",
    "\n",
    "![LinkList](https://upload.wikimedia.org/wikipedia/commons/4/45/Link_zh.png)\n",
    "\n",
    "\n",
    "特点: 链接方向是单向的，对链表的访问要通过从头部开始，依序往下读取。"
   ]
  },
  {
   "cell_type": "code",
   "execution_count": 179,
   "metadata": {},
   "outputs": [],
   "source": [
    "class Node:\n",
    "    def __init__(self, value, next_node=None):\n",
    "        self.value = value\n",
    "        self.next_node = next_node\n",
    "        \n",
    "    def __repr__(self):\n",
    "        return 'Node(%s)' % self.value\n",
    "\n",
    "\n",
    "class LinkList:\n",
    "    def __init__(self, head_value):\n",
    "        node = Node(head_value)\n",
    "        self.head = node\n",
    "\n",
    "    def __len__(self):\n",
    "        index = 0\n",
    "        node = self.head\n",
    "        for x in self:\n",
    "            index += 1\n",
    "        return index\n",
    "\n",
    "    def __getitem__(self, index):\n",
    "        node = self.head\n",
    "\n",
    "        try:\n",
    "            for x in range(index):\n",
    "                node = node.next_node\n",
    "        except AttributeError as e:\n",
    "            raise TypeError(\"index(%s) out of Link list\" % index)\n",
    "        \n",
    "        return node\n",
    "\n",
    "    def __iter__(self):\n",
    "        node = self.head\n",
    "        while node:\n",
    "            yield node\n",
    "            node = node.next_node\n",
    "    \n",
    "    def insert(self, value, index=None):\n",
    "        new_next_node = Node(value)\n",
    "        for k, node in enumerate(self):\n",
    "            if k == index:\n",
    "                if k:\n",
    "                    prev_node = self[index-1]\n",
    "                    prev_node.next_node = new_next_node\n",
    "                    new_next_node.next_node =  node\n",
    "                else:\n",
    "                    self.head = new_next_node\n",
    "                    new_next_node.next_node = node\n",
    "                break\n",
    "        else:\n",
    "            node.next_node = new_next_node\n",
    "        return value\n",
    "    \n",
    "    def delete(self, value):\n",
    "        for k, node in enumerate(self):\n",
    "            if node.value == value:\n",
    "                if node == self.head:\n",
    "                    del_node = node\n",
    "                    self.head = node.next_node\n",
    "                else:\n",
    "                    pre_node = self[k-1]\n",
    "                    pre_node.next_node = node.next_node\n",
    "                return node\n",
    "\n",
    "        raise TypeError('%s not in LinkList' % value)\n",
    "        \n",
    "    def pop(self, index=None):\n",
    "        for k, node in enumerate(self):\n",
    "            if index == k:\n",
    "                self[k-1].next_node = node.next_node\n",
    "                break\n",
    "        else:\n",
    "            self[k-1].next_node = None\n",
    "        return node\n",
    "\n",
    "    def __repr__(self):\n",
    "        _list = []\n",
    "        for x in self:\n",
    "            _list.append(x.value)\n",
    "        return str(_list)"
   ]
  },
  {
   "cell_type": "code",
   "execution_count": 180,
   "metadata": {},
   "outputs": [
    {
     "name": "stdout",
     "output_type": "stream",
     "text": [
      "[1]\n",
      "[1, 2]\n",
      "[1, 2, 3]\n",
      "[1, 2, 3, 3]\n",
      "[1, 2, 3]\n"
     ]
    },
    {
     "data": {
      "text/plain": [
       "Node(2)"
      ]
     },
     "execution_count": 180,
     "metadata": {},
     "output_type": "execute_result"
    }
   ],
   "source": [
    "link_list = LinkList(1)\n",
    "print(link_list)\n",
    "link_list.insert(2)\n",
    "print(link_list)\n",
    "link_list.insert(3)\n",
    "print(link_list)\n",
    "link_list.insert(3, 3)\n",
    "print(link_list)\n",
    "link_list.delete(3)\n",
    "print(link_list)\n",
    "\n",
    "link_list[1]\n"
   ]
  },
  {
   "cell_type": "code",
   "execution_count": 183,
   "metadata": {},
   "outputs": [
    {
     "name": "stdout",
     "output_type": "stream",
     "text": [
      "[2, 1]\n",
      "[1, 2]\n",
      "[3, 1, 2]\n",
      "[3, 1]\n"
     ]
    }
   ],
   "source": [
    "class LRU(LinkList):\n",
    "    def __init__(self, value):\n",
    "        super().__init__(value)\n",
    "    \n",
    "    def use(self, value):\n",
    "        for x in self:\n",
    "            if x.value == value:\n",
    "                self.delete(value)\n",
    "                self.insert(value, 0)\n",
    "                break\n",
    "        else:\n",
    "            self.insert(value, 0)\n",
    "\n",
    "        \n",
    "\n",
    "test = LRU(1)\n",
    "test.use(2)\n",
    "print(test)\n",
    "test.use(1)\n",
    "print(test)\n",
    "test.use(3)\n",
    "print(test)\n",
    "test.pop()\n",
    "print(test)\n",
    "\n"
   ]
  }
 ],
 "metadata": {
  "kernelspec": {
   "display_name": "Python 3",
   "language": "python",
   "name": "python3"
  },
  "language_info": {
   "codemirror_mode": {
    "name": "ipython",
    "version": 3
   },
   "file_extension": ".py",
   "mimetype": "text/x-python",
   "name": "python",
   "nbconvert_exporter": "python",
   "pygments_lexer": "ipython3",
   "version": "3.6.5"
  }
 },
 "nbformat": 4,
 "nbformat_minor": 2
}
