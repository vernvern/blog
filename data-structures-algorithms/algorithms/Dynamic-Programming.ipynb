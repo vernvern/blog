{
 "cells": [
  {
   "cell_type": "markdown",
   "metadata": {},
   "source": [
    "# 动态规划(Dynamic Programming)"
   ]
  },
  {
   "cell_type": "code",
   "execution_count": 24,
   "metadata": {
    "scrolled": false
   },
   "outputs": [
    {
     "name": "stdout",
     "output_type": "stream",
     "text": [
      "0: [True, False, True, False, False, False, False, False, False, False]\n",
      "1: [True, False, True, False, True, False, False, False, False, False]\n",
      "2: [True, False, True, True, True, True, False, True, False, False]\n",
      "3: [True, False, True, True, True, True, True, True, True, True]\n",
      "4: [True, False, True, True, True, True, True, True, True, True]\n"
     ]
    },
    {
     "data": {
      "text/plain": [
       "9"
      ]
     },
     "execution_count": 24,
     "metadata": {},
     "output_type": "execute_result"
    }
   ],
   "source": [
    "''' 0-1背包 '''\n",
    "\n",
    "\n",
    "weight = [2, 2, 3, 6, 3]\n",
    "count = len(weight)\n",
    "MAX_WEIGHT = 9\n",
    "\n",
    "\n",
    "def knapsack(weight:list, count:int, MAX_WEIGHT:int):\n",
    "    state = [False for x in range(MAX_WEIGHT+1)]\n",
    "    state[0] = True\n",
    "    for index, _weight in enumerate(weight):\n",
    "        # 放进背包\n",
    "        for new_weight in range(MAX_WEIGHT-_weight, -1, -1):\n",
    "            if state[new_weight]:\n",
    "                state[new_weight + _weight] = True\n",
    "        print('%s: %s' %(index, state))\n",
    "        \n",
    "    for x in range(MAX_WEIGHT, -1, -1):\n",
    "        if state[x]:\n",
    "            return x\n",
    "\n",
    "knapsack(weight_list, count, MAX_WEIGHT)"
   ]
  },
  {
   "cell_type": "code",
   "execution_count": 83,
   "metadata": {
    "scrolled": true
   },
   "outputs": [
    {
     "name": "stdout",
     "output_type": "stream",
     "text": [
      "0:\n",
      "[[ 0 -1  3 -1 -1 -1 -1 -1 -1 -1]\n",
      " [-1 -1 -1 -1 -1 -1 -1 -1 -1 -1]\n",
      " [-1 -1 -1 -1 -1 -1 -1 -1 -1 -1]\n",
      " [-1 -1 -1 -1 -1 -1 -1 -1 -1 -1]\n",
      " [-1 -1 -1 -1 -1 -1 -1 -1 -1 -1]]\n",
      "--------------------\n",
      "1:\n",
      "[[ 0 -1  3 -1 -1 -1 -1 -1 -1 -1]\n",
      " [ 0 -1  3 -1 -1 -1 -1 -1 -1 -1]\n",
      " [-1 -1 -1 -1 -1 -1 -1 -1 -1 -1]\n",
      " [-1 -1 -1 -1 -1 -1 -1 -1 -1 -1]\n",
      " [-1 -1 -1 -1 -1 -1 -1 -1 -1 -1]]\n",
      "[[ 0 -1  3 -1 -1 -1 -1 -1 -1 -1]\n",
      " [ 0 -1  4 -1  7 -1 -1 -1 -1 -1]\n",
      " [-1 -1 -1 -1 -1 -1 -1 -1 -1 -1]\n",
      " [-1 -1 -1 -1 -1 -1 -1 -1 -1 -1]\n",
      " [-1 -1 -1 -1 -1 -1 -1 -1 -1 -1]]\n",
      "--------------------\n",
      "2:\n",
      "[[ 0 -1  3 -1 -1 -1 -1 -1 -1 -1]\n",
      " [ 0 -1  4 -1  7 -1 -1 -1 -1 -1]\n",
      " [ 0 -1  4 -1  7 -1 -1 -1 -1 -1]\n",
      " [-1 -1 -1 -1 -1 -1 -1 -1 -1 -1]\n",
      " [-1 -1 -1 -1 -1 -1 -1 -1 -1 -1]]\n",
      "[[ 0 -1  3 -1 -1 -1 -1 -1 -1 -1]\n",
      " [ 0 -1  4 -1  7 -1 -1 -1 -1 -1]\n",
      " [ 0 -1  4  8  7 12 -1 15 -1 -1]\n",
      " [-1 -1 -1 -1 -1 -1 -1 -1 -1 -1]\n",
      " [-1 -1 -1 -1 -1 -1 -1 -1 -1 -1]]\n",
      "--------------------\n",
      "3:\n",
      "[[ 0 -1  3 -1 -1 -1 -1 -1 -1 -1]\n",
      " [ 0 -1  4 -1  7 -1 -1 -1 -1 -1]\n",
      " [ 0 -1  4  8  7 12 -1 15 -1 -1]\n",
      " [ 0 -1  4  8  7 12 -1 15 -1 -1]\n",
      " [-1 -1 -1 -1 -1 -1 -1 -1 -1 -1]]\n",
      "[[ 0 -1  3 -1 -1 -1 -1 -1 -1 -1]\n",
      " [ 0 -1  4 -1  7 -1 -1 -1 -1 -1]\n",
      " [ 0 -1  4  8  7 12 -1 15 -1 -1]\n",
      " [ 0 -1  4  8  7 12  9 15 13 -1]\n",
      " [-1 -1 -1 -1 -1 -1 -1 -1 -1 -1]]\n",
      "--------------------\n",
      "4:\n",
      "[[ 0 -1  3 -1 -1 -1 -1 -1 -1 -1]\n",
      " [ 0 -1  4 -1  7 -1 -1 -1 -1 -1]\n",
      " [ 0 -1  4  8  7 12 -1 15 -1 -1]\n",
      " [ 0 -1  4  8  7 12  9 15 13 -1]\n",
      " [ 0 -1  4  8  7 12  9 15 13 -1]]\n",
      "[[ 0 -1  3 -1 -1 -1 -1 -1 -1 -1]\n",
      " [ 0 -1  4 -1  7 -1 -1 -1 -1 -1]\n",
      " [ 0 -1  4  8  7 12 -1 15 -1 -1]\n",
      " [ 0 -1  4  8  7 12  9 15 13 -1]\n",
      " [ 0 -1  4  8  7 12 14 15 18 -1]]\n",
      "--------------------\n"
     ]
    },
    {
     "data": {
      "text/plain": [
       "18"
      ]
     },
     "execution_count": 83,
     "metadata": {},
     "output_type": "execute_result"
    }
   ],
   "source": [
    "''' 0-1背包: 物品有质量 '''\n",
    "\n",
    "import numpy as np\n",
    "\n",
    "\n",
    "weight = [2, 2, 3, 6, 3]\n",
    "value = [3, 4, 8, 9, 6]\n",
    "count = len(weight)\n",
    "MAX_WEIGHT = 9\n",
    "\n",
    "\n",
    "def knapsack(weight:list, count:int, MAX_WEIGHT:int):\n",
    "    # state[index:weight] = total_value\n",
    "    state = np.array([[-1]*10 for x in range(count)])\n",
    "    state[0,0] = 0\n",
    "    state[0, weight[0]] = value[0]\n",
    "    print('%s:\\n%s' %(0, state))\n",
    "    print('-'*20)\n",
    "    for index, new_weight in enumerate(weight[1:], start=1):\n",
    "        print('%s:' % index)\n",
    "\n",
    "        # 第index个物品不放背包\n",
    "        for _weight, _value in enumerate(state[index-1]):\n",
    "            if _value >= 0:\n",
    "                state[index][_weight] = _value\n",
    "        print(state)\n",
    "        \n",
    "        # 第index个物品放进背包\n",
    "        for _weight, _last_value in enumerate(state[index-1]):\n",
    "            if _last_value >= 0 and _weight+new_weight < MAX_WEIGHT:\n",
    "                _value = _last_value + value[index]\n",
    "                if _value > state[index][_weight+new_weight]:\n",
    "                    state[index][_weight+new_weight] = _value\n",
    "\n",
    "        print(state)\n",
    "        print('-'*20)\n",
    "        \n",
    "    return state.max()\n",
    "\n",
    "\n",
    "knapsack(weight_list, count, MAX_WEIGHT)"
   ]
  },
  {
   "cell_type": "code",
   "execution_count": 22,
   "metadata": {},
   "outputs": [
    {
     "name": "stdout",
     "output_type": "stream",
     "text": [
      "state: [0, 1, 2, 1, 2, 1, 2, 3, 2, 3]\n"
     ]
    }
   ],
   "source": [
    "''' 硬币\n",
    "\n",
    "三种不同硬币（1、3、5），支付9元，最少给多少个硬币？\n",
    "'''\n",
    "\n",
    "values = [1, 3, 5]\n",
    "total = 9\n",
    "\n",
    "def pay(total, values):\n",
    "    state = [0 for x in range(total+1)]\n",
    "\n",
    "    for value in range(1, total+1):\n",
    "        if value in values:\n",
    "            # 哨兵\n",
    "            state[value] = 1\n",
    "        else:\n",
    "            # 找状态表，能找到的话就取这个状态的硬币数量出来。\n",
    "            _count = (state[value-x] for x in values if value-x > 0 and state[value-x] > 0)\n",
    "            state[value] = min(_count) + 1\n",
    "            \n",
    "    print('state: %s' % state)\n",
    "            \n",
    "pay(total, values)\n",
    "        "
   ]
  }
 ],
 "metadata": {
  "kernelspec": {
   "display_name": "Python 3",
   "language": "python",
   "name": "python3"
  },
  "language_info": {
   "codemirror_mode": {
    "name": "ipython",
    "version": 3
   },
   "file_extension": ".py",
   "mimetype": "text/x-python",
   "name": "python",
   "nbconvert_exporter": "python",
   "pygments_lexer": "ipython3",
   "version": "3.6.5"
  }
 },
 "nbformat": 4,
 "nbformat_minor": 2
}
