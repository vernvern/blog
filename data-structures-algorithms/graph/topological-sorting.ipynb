{
 "cells": [
  {
   "cell_type": "markdown",
   "metadata": {},
   "source": [
    "# 拓扑排序(Topological sorting)\n",
    "\n",
    "可以对**有向无环图**排序。\n",
    "\n",
    "拓扑排序需要满足两个条件：\n",
    "- 每个顶点出现且只出现一次；\n",
    "- 若A在序列中排在B的前面，则在图中不存在从B到A的路径。(无环)\n"
   ]
  },
  {
   "cell_type": "code",
   "execution_count": 27,
   "metadata": {
    "scrolled": true
   },
   "outputs": [
    {
     "name": "stdout",
     "output_type": "stream",
     "text": [
      "--> 0\n",
      "--> 1\n",
      "--> 2\n",
      "--> 3\n",
      "--> 4\n"
     ]
    }
   ],
   "source": [
    "''' Kahn 算法 '''\n",
    "\n",
    "\n",
    "class Graph:\n",
    "    def __init__(self, count: int):\n",
    "        self.count = count\n",
    "        self.adj = [[] for x in range(count)]\n",
    "        \n",
    "    def add_edge(self, index: int, obj: int):\n",
    "        self.adj[index].append(obj)\n",
    "\n",
    "\n",
    "def topoSortByKahn(graph: Graph):\n",
    "    count = graph.count\n",
    "    inDegree = [0 for x in range(count)]\n",
    "    \n",
    "    for node, _inDegree in enumerate(graph.adj):\n",
    "        for x in _inDegree:\n",
    "            inDegree[x] += 1\n",
    "            \n",
    "    queue = []\n",
    "    for k, v in enumerate(inDegree):\n",
    "        if v == 0:\n",
    "            queue.append(k)\n",
    "    while(queue):\n",
    "        node = queue.pop(0)\n",
    "        print('-->', node)\n",
    "        \n",
    "        for _node in graph.adj[node]:\n",
    "            inDegree[_node] -= 1\n",
    "            if inDegree[_node] == 0:\n",
    "                queue.append(_node)\n",
    "\n",
    "\n",
    "graph = Graph(5)\n",
    "graph.add_edge(1, 2)\n",
    "graph.add_edge(2, 3)\n",
    "graph.add_edge(1, 3)\n",
    "graph.add_edge(3, 4)\n",
    "\n",
    "topoSortByKahn(graph)"
   ]
  },
  {
   "cell_type": "code",
   "execution_count": 37,
   "metadata": {},
   "outputs": [
    {
     "name": "stdout",
     "output_type": "stream",
     "text": [
      "adj: [[], [2, 3], [3], [4], []]\n",
      "inverse_adj: [[], [], [1], [1, 2], [3]]\n",
      "--> 0\n",
      "--> 1\n",
      "--> 2\n",
      "--> 3\n",
      "--> 4\n"
     ]
    }
   ],
   "source": [
    "''' DFS 算法(深度优先遍历) '''\n",
    "\n",
    "\n",
    "class Graph:\n",
    "    def __init__(self, count: int):\n",
    "        self.count = count\n",
    "        self.adj = [[] for x in range(count)]\n",
    "        \n",
    "    def add_edge(self, index: int, obj: int):\n",
    "        self.adj[index].append(obj)\n",
    "        \n",
    "        \n",
    "def topoSortByDFS(graph: Graph):\n",
    "    # 逆邻接表\n",
    "    inverse_adj = [[] for x in range(graph.count)]\n",
    "    for node, indegrees in enumerate(graph.adj):\n",
    "        for indegree_node in indegrees:\n",
    "            inverse_adj[indegree_node].append(node)\n",
    "    print('adj: %s' % graph.adj)\n",
    "    print('inverse_adj: %s' % inverse_adj)\n",
    "    \n",
    "    visited = [False for x in range(graph.count)]\n",
    "    for k, v in enumerate(visited):\n",
    "        if v == False:\n",
    "            visited[k] = True\n",
    "            dfs(k, inverse_adj, visited)\n",
    "            \n",
    "            \n",
    "def dfs(vertex: int, inverse_adj: list, visited: list):\n",
    "    for w in inverse_adj[vertex]:\n",
    "        if visited[w]:\n",
    "            continue\n",
    "        \n",
    "        visited[w] = True\n",
    "        dfs(vertex, inverse_adj, visited)\n",
    "    \n",
    "    print('-->', vertex)\n",
    "    \n",
    "    \n",
    "graph = Graph(5)\n",
    "graph.add_edge(1, 2)\n",
    "graph.add_edge(2, 3)\n",
    "graph.add_edge(1, 3)\n",
    "graph.add_edge(3, 4)\n",
    "\n",
    "topoSortByDFS(graph)"
   ]
  }
 ],
 "metadata": {
  "kernelspec": {
   "display_name": "Python 3",
   "language": "python",
   "name": "python3"
  },
  "language_info": {
   "codemirror_mode": {
    "name": "ipython",
    "version": 3
   },
   "file_extension": ".py",
   "mimetype": "text/x-python",
   "name": "python",
   "nbconvert_exporter": "python",
   "pygments_lexer": "ipython3",
   "version": "3.6.5"
  }
 },
 "nbformat": 4,
 "nbformat_minor": 2
}
