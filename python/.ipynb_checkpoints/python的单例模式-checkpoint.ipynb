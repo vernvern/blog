{
 "cells": [
  {
   "cell_type": "code",
   "execution_count": 10,
   "metadata": {},
   "outputs": [
    {
     "name": "stdout",
     "output_type": "stream",
     "text": [
      "a.status: 1\n",
      "b.status: 1\n",
      "a == b:  True\n",
      "a is b:  True\n"
     ]
    }
   ],
   "source": [
    "\n",
    "class TestSingleton(object):\n",
    "    '''\n",
    "    使用__new__()实现单例模式\n",
    "    '''\n",
    "    _singleton = None\n",
    "    def __new__(cls, *args, **kw):\n",
    "        if not cls._singleton:\n",
    "            cls._singleton = object.__new__(cls, *args, **kw)\n",
    "        return cls._singleton\n",
    "\n",
    "a = TestSingleton()\n",
    "b = TestSingleton()\n",
    "a.status = 1\n",
    "print('a.status:', a.status)\n",
    "print('b.status:',b.status)\n",
    "print('a == b: ', a == b)\n",
    "print('a is b: ', a is b)"
   ]
  },
  {
   "cell_type": "code",
   "execution_count": 9,
   "metadata": {},
   "outputs": [
    {
     "name": "stdout",
     "output_type": "stream",
     "text": [
      "a.status: 1\n",
      "b.status: 1\n",
      "a == b:  True\n",
      "a is b:  True\n"
     ]
    }
   ],
   "source": [
    "\n",
    "class SingletonMeta(type):\n",
    "    '''\n",
    "    使用元类实现单例模式\n",
    "    '''\n",
    "    def __init__(self, *args, **kw):\n",
    "        self._singleton = None\n",
    "        super().__init__(*args, **kw)\n",
    "    def __call__(self, *args, **kw):\n",
    "        if self._singleton == None:\n",
    "            self._singleton = super().__call__(*args, **kw)\n",
    "        return self._singleton\n",
    "\n",
    "\n",
    "class TestSingleton2(object, metaclass=SingletonMeta):\n",
    "    pass\n",
    "\n",
    "a = TestSingleton2()\n",
    "b = TestSingleton2()\n",
    "a.status = 1\n",
    "print('a.status:', a.status)\n",
    "print('b.status:',b.status)\n",
    "print('a == b: ', a == b)\n",
    "print('a is b: ', a is b)"
   ]
  },
  {
   "cell_type": "code",
   "execution_count": 5,
   "metadata": {},
   "outputs": [
    {
     "name": "stdout",
     "output_type": "stream",
     "text": [
      "a == b:  True\n",
      "a is b:  True\n"
     ]
    }
   ],
   "source": [
    "def singleton(cls, *args, **kw):\n",
    "    ''' 使用装饰器实现单例模式 '''\n",
    "    cls_list = {}\n",
    "    def _singleton(*args, **kw):\n",
    "        if cls not in cls_list:\n",
    "            cls_list[cls] = cls(*args, **kw)\n",
    "        return cls_list[cls]\n",
    "    return _singleton\n",
    "\n",
    "@singleton\n",
    "class TestSingleton:\n",
    "    pass\n",
    "\n",
    "a = TestSingleton()\n",
    "b = TestSingleton()\n",
    "a.status = 1\n",
    "print('a.status:', a.status)\n",
    "print('b.status:',b.status)\n",
    "print('a == b: ', a == b)\n",
    "print('a is b: ', a is b)"
   ]
  },
  {
   "cell_type": "code",
   "execution_count": 11,
   "metadata": {},
   "outputs": [
    {
     "name": "stdout",
     "output_type": "stream",
     "text": [
      "a.status: 1\n",
      "b.status: 1\n",
      "a == b:  False\n",
      "a is b:  False\n"
     ]
    }
   ],
   "source": [
    "class TestSingleton:\n",
    "    ''' 使用__shared_state属性实现Borg模式\n",
    "    Borg类似单例模式，区别是：\n",
    "    单例模式的类各个实例是同一个对象\n",
    "    Borg模式的类各个实例是不同对象，不过它们共享属性\n",
    "    '''\n",
    "    __shared_state = {}\n",
    "    \n",
    "    def __init__(self):\n",
    "        self.__dict__ = self.__shared_state\n",
    "        \n",
    "a = TestSingleton()\n",
    "b = TestSingleton()\n",
    "a.status = 1\n",
    "print('a.status:', a.status)\n",
    "print('b.status:',b.status)\n",
    "print('a == b: ', a == b)\n",
    "print('a is b: ', a is b)"
   ]
  }
 ],
 "metadata": {
  "kernelspec": {
   "display_name": "Python 3",
   "language": "python",
   "name": "python3"
  },
  "language_info": {
   "codemirror_mode": {
    "name": "ipython",
    "version": 3
   },
   "file_extension": ".py",
   "mimetype": "text/x-python",
   "name": "python",
   "nbconvert_exporter": "python",
   "pygments_lexer": "ipython3",
   "version": "3.6.5"
  }
 },
 "nbformat": 4,
 "nbformat_minor": 2
}
