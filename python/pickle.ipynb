{
 "cells": [
  {
   "cell_type": "code",
   "execution_count": 55,
   "metadata": {},
   "outputs": [
    {
     "name": "stdout",
     "output_type": "stream",
     "text": [
      "True\n"
     ]
    },
    {
     "ename": "AttributeError",
     "evalue": "'Test' object has no attribute 'b'",
     "output_type": "error",
     "traceback": [
      "\u001b[0;31m---------------------------------------------------------------------------\u001b[0m",
      "\u001b[0;31mAttributeError\u001b[0m                            Traceback (most recent call last)",
      "\u001b[0;32m<ipython-input-55-ba0a69038ac4>\u001b[0m in \u001b[0;36m<module>\u001b[0;34m()\u001b[0m\n\u001b[1;32m     19\u001b[0m \u001b[0maa\u001b[0m \u001b[0;34m=\u001b[0m \u001b[0mpickle\u001b[0m\u001b[0;34m.\u001b[0m\u001b[0mloads\u001b[0m\u001b[0;34m(\u001b[0m\u001b[0ma_pickle\u001b[0m\u001b[0;34m)\u001b[0m\u001b[0;34m\u001b[0m\u001b[0m\n\u001b[1;32m     20\u001b[0m \u001b[0mprint\u001b[0m\u001b[0;34m(\u001b[0m\u001b[0misinstance\u001b[0m\u001b[0;34m(\u001b[0m\u001b[0maa\u001b[0m\u001b[0;34m,\u001b[0m \u001b[0mTest\u001b[0m\u001b[0;34m)\u001b[0m\u001b[0;34m)\u001b[0m\u001b[0;34m\u001b[0m\u001b[0m\n\u001b[0;32m---> 21\u001b[0;31m \u001b[0maa\u001b[0m\u001b[0;34m.\u001b[0m\u001b[0mb\u001b[0m\u001b[0;34m\u001b[0m\u001b[0m\n\u001b[0m",
      "\u001b[0;31mAttributeError\u001b[0m: 'Test' object has no attribute 'b'"
     ]
    }
   ],
   "source": [
    "import pickle\n",
    "import copyreg\n",
    "\n",
    "\n",
    "class Test:\n",
    "    def __init__(self, a='2'):\n",
    "        self.a = a\n",
    "\n",
    "\n",
    "a = Test()\n",
    "\n",
    "a_pickle = pickle.dumps(a)\n",
    "\n",
    "class Test:\n",
    "    def __init__(self, a='2', b='2'):\n",
    "        self.a = a\n",
    "        self.b = b\n",
    "    \n",
    "aa = pickle.loads(a_pickle)\n",
    "print(isinstance(aa, Test))\n",
    "aa.b"
   ]
  },
  {
   "cell_type": "code",
   "execution_count": 2,
   "metadata": {},
   "outputs": [
    {
     "name": "stdout",
     "output_type": "stream",
     "text": [
      "rst\n",
      "test\n",
      "True\n"
     ]
    },
    {
     "data": {
      "text/plain": [
       "'2'"
      ]
     },
     "execution_count": 2,
     "metadata": {},
     "output_type": "execute_result"
    }
   ],
   "source": [
    "import pickle\n",
    "import copyreg\n",
    "\n",
    "\n",
    "class Test:\n",
    "    def __init__(self, a='2'):\n",
    "        self.a = a\n",
    "\n",
    "def pickle_Test(obj):\n",
    "    print('rst')\n",
    "    return unpickle_Test, (obj.__dict__,)\n",
    "\n",
    "def unpickle_Test(kw):\n",
    "    print('test')\n",
    "    return Test(**kw)\n",
    "        \n",
    "copyreg.pickle(Test, pickle_Test)\n",
    "\n",
    "a = Test()\n",
    "\n",
    "a_pickle = pickle.dumps(a)\n",
    "\n",
    "class Test:\n",
    "    def __init__(self, a='2', b='2'):\n",
    "        self.a = a\n",
    "        self.b = b\n",
    "    \n",
    "aa = pickle.loads(a_pickle)\n",
    "print(isinstance(aa, Test))\n",
    "aa.b"
   ]
  },
  {
   "cell_type": "code",
   "execution_count": null,
   "metadata": {},
   "outputs": [],
   "source": []
  }
 ],
 "metadata": {
  "kernelspec": {
   "display_name": "Python 3",
   "language": "python",
   "name": "python3"
  },
  "language_info": {
   "codemirror_mode": {
    "name": "ipython",
    "version": 3
   },
   "file_extension": ".py",
   "mimetype": "text/x-python",
   "name": "python",
   "nbconvert_exporter": "python",
   "pygments_lexer": "ipython3",
   "version": "3.6.5"
  }
 },
 "nbformat": 4,
 "nbformat_minor": 2
}
