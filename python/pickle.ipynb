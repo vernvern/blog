{
 "cells": [
  {
   "cell_type": "code",
   "execution_count": 3,
   "metadata": {},
   "outputs": [
    {
     "name": "stdout",
     "output_type": "stream",
     "text": [
      "True\n"
     ]
    },
    {
     "ename": "AttributeError",
     "evalue": "'Test' object has no attribute 'b'",
     "output_type": "error",
     "traceback": [
      "\u001b[0;31m---------------------------------------------------------------------------\u001b[0m",
      "\u001b[0;31mAttributeError\u001b[0m                            Traceback (most recent call last)",
      "\u001b[0;32m<ipython-input-3-c15c0e26c523>\u001b[0m in \u001b[0;36m<module>\u001b[0;34m()\u001b[0m\n\u001b[1;32m     20\u001b[0m \u001b[0maa\u001b[0m \u001b[0;34m=\u001b[0m \u001b[0mpickle\u001b[0m\u001b[0;34m.\u001b[0m\u001b[0mloads\u001b[0m\u001b[0;34m(\u001b[0m\u001b[0ma_pickle\u001b[0m\u001b[0;34m)\u001b[0m\u001b[0;34m\u001b[0m\u001b[0m\n\u001b[1;32m     21\u001b[0m \u001b[0mprint\u001b[0m\u001b[0;34m(\u001b[0m\u001b[0misinstance\u001b[0m\u001b[0;34m(\u001b[0m\u001b[0maa\u001b[0m\u001b[0;34m,\u001b[0m \u001b[0mTest\u001b[0m\u001b[0;34m)\u001b[0m\u001b[0;34m)\u001b[0m\u001b[0;34m\u001b[0m\u001b[0m\n\u001b[0;32m---> 22\u001b[0;31m \u001b[0maa\u001b[0m\u001b[0;34m.\u001b[0m\u001b[0mb\u001b[0m\u001b[0;34m\u001b[0m\u001b[0m\n\u001b[0m",
      "\u001b[0;31mAttributeError\u001b[0m: 'Test' object has no attribute 'b'"
     ]
    }
   ],
   "source": [
    "# pickle: class add attribute without copyreg\n",
    "\n",
    "import pickle\n",
    "\n",
    "\n",
    "class Test:\n",
    "    def __init__(self, a='2'):\n",
    "        self.a = a\n",
    "\n",
    "\n",
    "a = Test()\n",
    "\n",
    "a_pickle = pickle.dumps(a)\n",
    "\n",
    "class Test:\n",
    "    def __init__(self, a='2', b='2'):\n",
    "        self.a = a\n",
    "        self.b = b\n",
    "    \n",
    "aa = pickle.loads(a_pickle)\n",
    "print(isinstance(aa, Test))\n",
    "aa.b"
   ]
  },
  {
   "cell_type": "code",
   "execution_count": 4,
   "metadata": {},
   "outputs": [
    {
     "name": "stdout",
     "output_type": "stream",
     "text": [
      "rst\n",
      "test\n",
      "True\n"
     ]
    },
    {
     "data": {
      "text/plain": [
       "'2'"
      ]
     },
     "execution_count": 4,
     "metadata": {},
     "output_type": "execute_result"
    }
   ],
   "source": [
    "# pickle: class add attribute with copyreg\n",
    "\n",
    "import pickle\n",
    "import copyreg\n",
    "\n",
    "\n",
    "class Test:\n",
    "    def __init__(self, a='2'):\n",
    "        self.a = a\n",
    "\n",
    "def pickle_Test(obj):\n",
    "    print('rst')\n",
    "    return unpickle_Test, (obj.__dict__,)\n",
    "\n",
    "def unpickle_Test(kw):\n",
    "    print('test')\n",
    "    return Test(**kw)\n",
    "        \n",
    "copyreg.pickle(Test, pickle_Test)\n",
    "\n",
    "a = Test()\n",
    "\n",
    "a_pickle = pickle.dumps(a)\n",
    "\n",
    "class Test:\n",
    "    def __init__(self, a='2', b='2'):\n",
    "        self.a = a\n",
    "        self.b = b\n",
    "    \n",
    "aa = pickle.loads(a_pickle)\n",
    "print(isinstance(aa, Test))\n",
    "aa.b"
   ]
  },
  {
   "cell_type": "code",
   "execution_count": 6,
   "metadata": {},
   "outputs": [
    {
     "name": "stdout",
     "output_type": "stream",
     "text": [
      "deleted_arg\n",
      "True\n"
     ]
    },
    {
     "data": {
      "text/plain": [
       "'2'"
      ]
     },
     "execution_count": 6,
     "metadata": {},
     "output_type": "execute_result"
    }
   ],
   "source": [
    "# pickle: class delete attribute with copyreg\n",
    "\n",
    "import pickle\n",
    "import copyreg\n",
    "\n",
    "\n",
    "class Test:\n",
    "    def __init__(self, a='2'):\n",
    "        self.a = a\n",
    "        self.deleted_arg = '21'\n",
    "        \n",
    "\n",
    "\n",
    "def pickle_Test(obj):\n",
    "    kw = obj.__dict__\n",
    "    return unpickle_Test, (kw,)\n",
    "\n",
    "\n",
    "def unpickle_Test(kw):\n",
    "    deleted_args = list()\n",
    "    deleted_args.append('deleted_arg')\n",
    "    for arg in deleted_args:\n",
    "        print(arg)\n",
    "        if kw.get(arg):\n",
    "            kw.pop(arg)\n",
    "    return Test(**kw)\n",
    "        \n",
    "copyreg.pickle(Test, pickle_Test)\n",
    "\n",
    "a = Test()\n",
    "\n",
    "a_pickle = pickle.dumps(a)\n",
    "\n",
    "class Test:\n",
    "    def __init__(self, a='2'):\n",
    "        self.a = a\n",
    "\n",
    "    \n",
    "\n",
    "\n",
    "aa = pickle.loads(a_pickle)\n",
    "print(isinstance(aa, Test))\n",
    "aa.a"
   ]
  },
  {
   "cell_type": "code",
   "execution_count": 17,
   "metadata": {},
   "outputs": [
    {
     "name": "stdout",
     "output_type": "stream",
     "text": [
      "deleted_arg\n",
      "<__main__.Test1 object at 0x10bbe4a58>\n"
     ]
    }
   ],
   "source": [
    "#  pickle: class rename with copyreg\n",
    "# notice:\n",
    "#   1. class Test can be move to other modules\n",
    "#   2. func unpickle_Test can't be move to other modules\n",
    "#   3. func unpickle_Test can't be rename\n",
    "\n",
    "import pickle\n",
    "import copyreg\n",
    "\n",
    "\n",
    "class Test:\n",
    "    def __init__(self, a='a'):\n",
    "        self.a = a\n",
    "        \n",
    "def pickle_Test(obj):\n",
    "    kw = obj.__dict__\n",
    "    return unpickle_Test, (kw,)\n",
    "\n",
    "\n",
    "def unpickle_Test(kw):\n",
    "    deleted_args = list()\n",
    "    deleted_args.append('deleted_arg')\n",
    "    for arg in deleted_args:\n",
    "        print(arg)\n",
    "        if kw.get(arg):\n",
    "            kw.pop(arg)\n",
    "    return Test(**kw)\n",
    "        \n",
    "copyreg.pickle(Test, pickle_Test)\n",
    "\n",
    "a = Test()\n",
    "pickle_a = pickle.dumps(a)\n",
    "\n",
    "\n",
    "del Test\n",
    "\n",
    "\n",
    "class Test1:\n",
    "    def __init__(self, a='a'):\n",
    "        self.a = a\n",
    "        \n",
    "\n",
    "\n",
    "def unpickle_Test(kw):\n",
    "    deleted_args = list()\n",
    "    deleted_args.append('deleted_arg')\n",
    "    for arg in deleted_args:\n",
    "        print(arg)\n",
    "        if kw.get(arg):\n",
    "            kw.pop(arg)\n",
    "    return Test1(**kw)  # modified\n",
    "\n",
    "        \n",
    "        \n",
    "copyreg.pickle(Test1, pickle_Test)\n",
    "\n",
    "print(pickle.loads(pickle_a))\n",
    "\n"
   ]
  }
 ],
 "metadata": {
  "kernelspec": {
   "display_name": "Python 3",
   "language": "python",
   "name": "python3"
  },
  "language_info": {
   "codemirror_mode": {
    "name": "ipython",
    "version": 3
   },
   "file_extension": ".py",
   "mimetype": "text/x-python",
   "name": "python",
   "nbconvert_exporter": "python",
   "pygments_lexer": "ipython3",
   "version": "3.6.5"
  }
 },
 "nbformat": 4,
 "nbformat_minor": 2
}
