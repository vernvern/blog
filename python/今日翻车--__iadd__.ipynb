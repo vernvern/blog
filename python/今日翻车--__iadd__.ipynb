{
 "cells": [
  {
   "cell_type": "markdown",
   "metadata": {},
   "source": [
    "# 翻车的人不配有睡眠（误\n",
    "\n",
    "\n",
    "今天(2019-06-26)，居然想当然地把 `list_ += [1, ]` 等价于 `list_.append([1,])`了。。\n",
    "\n",
    "为了不再翻车。。。整理一下python内置对象中 **\\_\\_iadd__**  的功能。"
   ]
  },
  {
   "cell_type": "markdown",
   "metadata": {},
   "source": [
    "## too long dont read\n",
    "\n",
    "int:\n",
    "- 支持7个赋值运算符(`+=`、`-=`、`*=`、`/=`、`%=`、`**=`、`//=`)\n",
    "\n",
    "str:\n",
    "- 支持`+=`，`+=`的作用和`+`类似，不是原地操作\n",
    "- 不支持`-=`、`/=`\n",
    "- 对于`*=`，只支持 `Str *= Int`，作用是拼接n个字符串，不是原地操作\n",
    "\n",
    "list:\n",
    "- 支持`List += List`, 原地操作 ！！\n",
    "- 不支持`-=`\n",
    "- 对于`*=`，只支持 `List *= Int`，作用是拼接n个列表，原地操作！！\n",
    "- 不支持`/=`\n",
    "\n",
    "tuple:\n",
    "- 支持`+=`，`+=`的作用和`+`类似，不是原地操作！！\n",
    "- 不支持`-=`、`/=`\n",
    "- 对于`*=`，只支持 `Tuple *= Int`，作用是拼接n个字符串，不是原地操作\n",
    "\n",
    "set:\n",
    "- 不支持`+=`、`*=`、`/=`\n",
    "- 支持`Set -= Set`！！原地操作！！\n",
    "\n",
    "dict:\n",
    "- 不支持`+=`、`-=`、`*=`、`/=`"
   ]
  },
  {
   "cell_type": "markdown",
   "metadata": {},
   "source": [
    "## detail"
   ]
  },
  {
   "cell_type": "code",
   "execution_count": 192,
   "metadata": {},
   "outputs": [],
   "source": [
    "def show_obj_detail(obj):\n",
    "    print(type(obj))\n",
    "    print(id(obj))\n",
    "    print(obj)\n",
    "    print('-'*5)"
   ]
  },
  {
   "cell_type": "markdown",
   "metadata": {},
   "source": [
    "## int"
   ]
  },
  {
   "cell_type": "code",
   "execution_count": 193,
   "metadata": {
    "scrolled": true
   },
   "outputs": [
    {
     "name": "stdout",
     "output_type": "stream",
     "text": [
      "<class 'int'>\n",
      "99163476751136\n",
      "1\n",
      "-----\n",
      "<class 'int'>\n",
      "99163476751136\n",
      "1\n",
      "-----\n",
      "<class 'int'>\n",
      "99163476751168\n",
      "2\n",
      "-----\n"
     ]
    }
   ],
   "source": [
    "a = 1\n",
    "show_obj_detail(a)\n",
    "b = 1\n",
    "show_obj_detail(b)\n",
    "a += b\n",
    "show_obj_detail(a)"
   ]
  },
  {
   "cell_type": "code",
   "execution_count": 194,
   "metadata": {
    "scrolled": true
   },
   "outputs": [
    {
     "name": "stdout",
     "output_type": "stream",
     "text": [
      "<class 'int'>\n",
      "99163476751136\n",
      "1\n",
      "-----\n",
      "<class 'int'>\n",
      "99163476751168\n",
      "2\n",
      "-----\n",
      "<class 'int'>\n",
      "99163476751200\n",
      "3\n",
      "-----\n"
     ]
    }
   ],
   "source": [
    "a = 1\n",
    "show_obj_detail(a)\n",
    "b = 2\n",
    "show_obj_detail(b)\n",
    "a = a+b\n",
    "show_obj_detail(a)"
   ]
  },
  {
   "cell_type": "markdown",
   "metadata": {},
   "source": [
    "从输出可以看到，`int` 类型中，`+=` 和 `+` 的功能挺一致的，都是重新分配地址。\n",
    "\n",
    "有意思的是，`a = 1` 和 `b = 1`的时候，a 和 b是使用了同一个地址，\n",
    "稍微测试了下，在python3.7中,给多个变量赋值，在 -5 ~ 256 区间,id一样的，python有一个策略是常用int指向同一个地址，达到节省内存的目的"
   ]
  },
  {
   "cell_type": "code",
   "execution_count": 195,
   "metadata": {},
   "outputs": [
    {
     "name": "stdout",
     "output_type": "stream",
     "text": [
      "3\n",
      "-1\n",
      "3\n",
      "0.5\n",
      "1\n",
      "9\n",
      "2\n"
     ]
    }
   ],
   "source": [
    "a = 1\n",
    "a += 2\n",
    "print(a)\n",
    "a = 1\n",
    "a  -= 2\n",
    "print(a)\n",
    "a = 1\n",
    "a *= 3\n",
    "print(a)\n",
    "a = 1\n",
    "a /= 2\n",
    "print(a)\n",
    "a = 3\n",
    "a %= 2\n",
    "print(a)\n",
    "a = 3\n",
    "a **= 2\n",
    "print(a)\n",
    "a = 5 \n",
    "a //= 2\n",
    "print(a)\n"
   ]
  },
  {
   "cell_type": "markdown",
   "metadata": {},
   "source": [
    "由于上面代码正常运行，说明int类型对于7个赋值运算符都支持。"
   ]
  },
  {
   "cell_type": "code",
   "execution_count": 196,
   "metadata": {},
   "outputs": [
    {
     "name": "stdout",
     "output_type": "stream",
     "text": [
      "10\n",
      "11\n",
      "1\n",
      "4444\n",
      "15\n"
     ]
    }
   ],
   "source": [
    "\n",
    "a = 11\n",
    "b = 10\n",
    "a &= b\n",
    "print(a)\n",
    "\n",
    "a = 11\n",
    "b = 10\n",
    "a |= b\n",
    "print(a)\n",
    "\n",
    "a = 11\n",
    "b = 10\n",
    "a ^= b\n",
    "print(a)\n",
    "\n",
    "a = 1111\n",
    "b = 2\n",
    "a <<= b\n",
    "print(a)\n",
    "\n",
    "a = 60\n",
    "b = 2\n",
    "a >>= b\n",
    "print(a)"
   ]
  },
  {
   "cell_type": "markdown",
   "metadata": {},
   "source": [
    "看～正常运行，说明int类型支持(`&`, `|`, `^`, `<<`, `>>`)五个位运算符和等号的组合"
   ]
  },
  {
   "cell_type": "markdown",
   "metadata": {},
   "source": [
    "如果是 `a ~= b`的话，会报`SyntaxError: invalid syntax`\n",
    "\n",
    "报错说明不支持 `~` 和 `=`的组合，这个很好理解，毕竟`~`是一元运算符\n",
    "\n",
    "*注： 这里SyntaxError是不会被try except捕捉到的，有兴趣可以去试试～原因是SyntaxError是在**代码解析的时候**就已经抛出，而try生效的地方是在**代码运行的时候***"
   ]
  },
  {
   "cell_type": "code",
   "execution_count": 197,
   "metadata": {},
   "outputs": [
    {
     "name": "stdout",
     "output_type": "stream",
     "text": [
      "False\n",
      "True\n"
     ]
    }
   ],
   "source": [
    "a = 1\n",
    "b = 2\n",
    "\n",
    "print(a >= b)\n",
    "print(a <= b)\n"
   ]
  },
  {
   "cell_type": "markdown",
   "metadata": {},
   "source": [
    "`<=` 和 `>=` 就不属于赋值预算符号了，只是比较运算符。"
   ]
  },
  {
   "cell_type": "markdown",
   "metadata": {},
   "source": [
    "## str"
   ]
  },
  {
   "cell_type": "code",
   "execution_count": 198,
   "metadata": {},
   "outputs": [
    {
     "name": "stdout",
     "output_type": "stream",
     "text": [
      "<class 'str'>\n",
      "140085249393080\n",
      "a\n",
      "-----\n",
      "<class 'str'>\n",
      "140085249680472\n",
      "b\n",
      "-----\n",
      "<class 'str'>\n",
      "140084945454280\n",
      "ab\n",
      "-----\n",
      "<class 'str'>\n",
      "140084945454224\n",
      "abb\n",
      "-----\n"
     ]
    }
   ],
   "source": [
    "a = 'a'\n",
    "show_obj_detail(a)\n",
    "b = 'b'\n",
    "show_obj_detail(b)\n",
    "a += b\n",
    "show_obj_detail(a)\n",
    "a = a + b\n",
    "show_obj_detail(a)\n"
   ]
  },
  {
   "cell_type": "markdown",
   "metadata": {},
   "source": [
    "str类型支持`+=` ,并且 `+=` 的行为和`+`类似，值和地址都会更新"
   ]
  },
  {
   "cell_type": "code",
   "execution_count": 199,
   "metadata": {},
   "outputs": [
    {
     "name": "stdout",
     "output_type": "stream",
     "text": [
      "<class 'str'>\n",
      "140085249393080\n",
      "a\n",
      "-----\n",
      "<class 'str'>\n",
      "140085249680472\n",
      "b\n",
      "-----\n",
      "unsupported operand type(s) for -=: 'str' and 'str'\n"
     ]
    }
   ],
   "source": [
    "a = 'a'\n",
    "show_obj_detail(a)\n",
    "b = 'b'\n",
    "show_obj_detail(b)\n",
    "\n",
    "\n",
    "try:\n",
    "    a -= b\n",
    "except TypeError as e:\n",
    "    print(e)\n",
    "else:\n",
    "    show_obj_detail()\n"
   ]
  },
  {
   "cell_type": "markdown",
   "metadata": {},
   "source": [
    "str类型不支持 `-=` "
   ]
  },
  {
   "cell_type": "code",
   "execution_count": 200,
   "metadata": {
    "scrolled": true
   },
   "outputs": [
    {
     "name": "stdout",
     "output_type": "stream",
     "text": [
      "<class 'str'>\n",
      "140085249393080\n",
      "a\n",
      "-----\n",
      "<class 'str'>\n",
      "140085249680472\n",
      "b\n",
      "-----\n",
      "can't multiply sequence by non-int of type 'str'\n"
     ]
    }
   ],
   "source": [
    "a = 'a'\n",
    "show_obj_detail(a)\n",
    "b = 'b'\n",
    "show_obj_detail(b)\n",
    "\n",
    "\n",
    "try:\n",
    "    a *= b\n",
    "except TypeError as e:\n",
    "    print(e)\n",
    "else:\n",
    "    show_obj_detail()\n",
    "\n",
    "\n",
    "\n"
   ]
  },
  {
   "cell_type": "markdown",
   "metadata": {},
   "source": [
    "str类型不支持 `*=` str\n"
   ]
  },
  {
   "cell_type": "code",
   "execution_count": 201,
   "metadata": {
    "scrolled": true
   },
   "outputs": [
    {
     "name": "stdout",
     "output_type": "stream",
     "text": [
      "<class 'str'>\n",
      "140085170378992\n",
      "ab\n",
      "-----\n",
      "a *= 2 --> \n",
      "<class 'str'>\n",
      "140084945453832\n",
      "abab\n",
      "-----\n"
     ]
    }
   ],
   "source": [
    "a = 'ab'\n",
    "show_obj_detail(a)\n",
    "a *= 2\n",
    "print('a *= 2 --> ')\n",
    "show_obj_detail(a)\n"
   ]
  },
  {
   "cell_type": "markdown",
   "metadata": {},
   "source": [
    "但是str类型支持 `*=` int，作用是 拼凑 n个str，组成一个新的str。"
   ]
  },
  {
   "cell_type": "code",
   "execution_count": 202,
   "metadata": {
    "scrolled": true
   },
   "outputs": [
    {
     "name": "stdout",
     "output_type": "stream",
     "text": [
      "<class 'str'>\n",
      "140085170378992\n",
      "ab\n",
      "-----\n",
      "unsupported operand type(s) for /=: 'str' and 'int'\n",
      "unsupported operand type(s) for /=: 'str' and 'str'\n"
     ]
    }
   ],
   "source": [
    "a = 'ab'\n",
    "show_obj_detail(a)\n",
    "\n",
    "try:\n",
    "    a /= 2\n",
    "except TypeError as e:\n",
    "    print(e)\n",
    "    \n",
    "try:\n",
    "    a /= 'b'\n",
    "except TypeError as e:\n",
    "    print(e)"
   ]
  },
  {
   "cell_type": "markdown",
   "metadata": {},
   "source": [
    "毫无疑问的是:\n",
    "- unsupported operand type(s) for /=: 'str' and 'int'\n",
    "- unsupported operand type(s) for /=: 'str' and 'str'"
   ]
  },
  {
   "cell_type": "markdown",
   "metadata": {},
   "source": [
    "## list\n"
   ]
  },
  {
   "cell_type": "code",
   "execution_count": 203,
   "metadata": {},
   "outputs": [
    {
     "name": "stdout",
     "output_type": "stream",
     "text": [
      "<class 'list'>\n",
      "140084945103624\n",
      "[1]\n",
      "-----\n",
      "<class 'list'>\n",
      "140084944810184\n",
      "[2]\n",
      "-----\n",
      "<class 'list'>\n",
      "140084945103624\n",
      "[1, 2]\n",
      "-----\n",
      "<class 'list'>\n",
      "140084944895112\n",
      "[1, 2]\n",
      "-----\n"
     ]
    }
   ],
   "source": [
    "a = [1]\n",
    "show_obj_detail(a)\n",
    "b = [2]\n",
    "show_obj_detail(b)\n",
    "\n",
    "a += b\n",
    "show_obj_detail(a)\n",
    "\n",
    "c = [1]\n",
    "d = [2]\n",
    "show_obj_detail(c+d)\n"
   ]
  },
  {
   "cell_type": "markdown",
   "metadata": {},
   "source": [
    "注意，list类型中\n",
    "- 如果是`a += b`这样的句式，会将b的数据更新到a中，a的id不变\n",
    "- 如果是'a+b'这样的句式，会使用指针保存a+b的地址"
   ]
  },
  {
   "cell_type": "code",
   "execution_count": 204,
   "metadata": {
    "scrolled": true
   },
   "outputs": [
    {
     "name": "stdout",
     "output_type": "stream",
     "text": [
      "<class 'list'>\n",
      "140084944895368\n",
      "[1]\n",
      "-----\n",
      "<class 'list'>\n",
      "140084945103624\n",
      "[2]\n",
      "-----\n",
      "unsupported operand type(s) for -=: 'list' and 'list'\n"
     ]
    }
   ],
   "source": [
    "a = [1]\n",
    "show_obj_detail(a)\n",
    "b = [2]\n",
    "show_obj_detail(b)\n",
    "\n",
    "try:\n",
    "    a -= b\n",
    "except TypeError as e:\n",
    "    print(e)\n",
    "else:\n",
    "    show_obj_detail(a)"
   ]
  },
  {
   "cell_type": "code",
   "execution_count": 205,
   "metadata": {},
   "outputs": [
    {
     "name": "stdout",
     "output_type": "stream",
     "text": [
      "<class 'list'>\n",
      "140084944895432\n",
      "[1]\n",
      "-----\n",
      "<class 'list'>\n",
      "140084944895368\n",
      "[2]\n",
      "-----\n",
      "can't multiply sequence by non-int of type 'list'\n",
      "<class 'list'>\n",
      "140084944895432\n",
      "[1, 1, 1]\n",
      "-----\n"
     ]
    }
   ],
   "source": [
    "a = [1]\n",
    "show_obj_detail(a)\n",
    "b = [2]\n",
    "show_obj_detail(b)\n",
    "\n",
    "try:\n",
    "    a *= b\n",
    "except TypeError as e:\n",
    "    print(e)\n",
    "    \n",
    "a *= 3\n",
    "show_obj_detail(a)\n",
    "\n"
   ]
  },
  {
   "cell_type": "markdown",
   "metadata": {},
   "source": [
    "对于乘法\n",
    "- `List *= List`是**非法的**\n",
    "- `List *= Int`是合法的(和str**一样**)\n",
    "- `List *= Int`的指针在调用前后不变(和str**不一样**)"
   ]
  },
  {
   "cell_type": "code",
   "execution_count": 206,
   "metadata": {},
   "outputs": [
    {
     "name": "stdout",
     "output_type": "stream",
     "text": [
      "<class 'list'>\n",
      "140084944610824\n",
      "[1]\n",
      "-----\n",
      "<class 'list'>\n",
      "140084944895432\n",
      "[2]\n",
      "-----\n",
      "unsupported operand type(s) for /=: 'list' and 'list'\n",
      "unsupported operand type(s) for /=: 'list' and 'int'\n"
     ]
    }
   ],
   "source": [
    "a = [1]\n",
    "show_obj_detail(a)\n",
    "b = [2]\n",
    "show_obj_detail(b)\n",
    "\n",
    "try:\n",
    "    a /= b\n",
    "except TypeError as e:\n",
    "    print(e)\n",
    "else:\n",
    "    show_obj_detail(a)\n",
    "    \n",
    "try:\n",
    "    a /= 3\n",
    "except TypeError as e:\n",
    "    print(e)\n",
    "else:\n",
    "    show_obj_detail(a)"
   ]
  },
  {
   "cell_type": "markdown",
   "metadata": {},
   "source": [
    "显然，list不支持除法，无论除数是list还是int类型"
   ]
  },
  {
   "cell_type": "markdown",
   "metadata": {},
   "source": [
    "## tuple"
   ]
  },
  {
   "cell_type": "code",
   "execution_count": 207,
   "metadata": {},
   "outputs": [
    {
     "name": "stdout",
     "output_type": "stream",
     "text": [
      "<class 'tuple'>\n",
      "140084945144352\n",
      "(1,)\n",
      "-----\n",
      "<class 'tuple'>\n",
      "140084944864592\n",
      "(2,)\n",
      "-----\n",
      "<class 'tuple'>\n",
      "140084945184648\n",
      "(1, 2)\n",
      "-----\n",
      "<class 'tuple'>\n",
      "140084945417704\n",
      "(1, 2, 2)\n",
      "-----\n"
     ]
    }
   ],
   "source": [
    "a = (1,)\n",
    "show_obj_detail(a)\n",
    "b = (2,)\n",
    "show_obj_detail(b)\n",
    "\n",
    "a += b\n",
    "show_obj_detail(a)\n",
    "    \n",
    "c = a + b\n",
    "show_obj_detail(c)"
   ]
  },
  {
   "cell_type": "markdown",
   "metadata": {},
   "source": [
    "- tuple支持`+=`\n",
    "- 无论是`+=`还是`+`，都不是原地修改\n"
   ]
  },
  {
   "cell_type": "code",
   "execution_count": 208,
   "metadata": {},
   "outputs": [
    {
     "name": "stdout",
     "output_type": "stream",
     "text": [
      "<class 'tuple'>\n",
      "140084945315488\n",
      "(1,)\n",
      "-----\n",
      "<class 'tuple'>\n",
      "140084944822344\n",
      "(2,)\n",
      "-----\n",
      "unsupported operand type(s) for -=: 'tuple' and 'tuple'\n",
      "unsupported operand type(s) for -: 'tuple' and 'tuple'\n"
     ]
    }
   ],
   "source": [
    "a = (1,)\n",
    "show_obj_detail(a)\n",
    "b = (2,)\n",
    "show_obj_detail(b)\n",
    "\n",
    "try:\n",
    "    a -= b\n",
    "except TypeError as e:\n",
    "    print(e)\n",
    "else:\n",
    "    show_obj_detail(a)\n",
    "\n",
    "try:\n",
    "    c = a - b\n",
    "except TypeError as e:\n",
    "    print(e)\n",
    "else:\n",
    "    show_obj_detail(c)"
   ]
  },
  {
   "cell_type": "code",
   "execution_count": 209,
   "metadata": {},
   "outputs": [
    {
     "name": "stdout",
     "output_type": "stream",
     "text": [
      "<class 'tuple'>\n",
      "140084945316048\n",
      "(1,)\n",
      "-----\n",
      "<class 'tuple'>\n",
      "140084945276152\n",
      "(2,)\n",
      "-----\n",
      "can't multiply sequence by non-int of type 'tuple'\n",
      "<class 'tuple'>\n",
      "140084945663104\n",
      "(1, 1, 1)\n",
      "-----\n",
      "<class 'tuple'>\n",
      "140085085711360\n",
      "(1, 1, 1, 1, 1, 1, 1, 1, 1)\n",
      "-----\n"
     ]
    }
   ],
   "source": [
    "a = (1,)\n",
    "show_obj_detail(a)\n",
    "b = (2,)\n",
    "show_obj_detail(b)\n",
    "\n",
    "try:\n",
    "    a *= b\n",
    "except TypeError as e:\n",
    "    print(e)\n",
    "else:\n",
    "    show_obj_detail(a)\n",
    "    \n",
    "a *= 3\n",
    "show_obj_detail(a)\n",
    "\n",
    "show_obj_detail(a*3)"
   ]
  },
  {
   "cell_type": "markdown",
   "metadata": {},
   "source": [
    "- tuple只支持和**int类型**相乘,其他类型都🙅\n",
    "- `Tuple *= Int` 和 `Tuple * Int`表现一样，都**不是原地修改**"
   ]
  },
  {
   "cell_type": "code",
   "execution_count": 210,
   "metadata": {},
   "outputs": [
    {
     "name": "stdout",
     "output_type": "stream",
     "text": [
      "<class 'tuple'>\n",
      "140084945313864\n",
      "(1,)\n",
      "-----\n",
      "<class 'tuple'>\n",
      "140084945432760\n",
      "(2,)\n",
      "-----\n",
      "unsupported operand type(s) for /: 'tuple' and 'tuple'\n",
      "unsupported operand type(s) for /=: 'tuple' and 'tuple'\n"
     ]
    }
   ],
   "source": [
    "a = (1,)\n",
    "show_obj_detail(a)\n",
    "b = (2,)\n",
    "show_obj_detail(b)\n",
    "\n",
    "try:\n",
    "    _ = a / b\n",
    "except TypeError as e:\n",
    "    print(e)\n",
    "try:\n",
    "    a /=  b\n",
    "except TypeError as e:\n",
    "    print(e)\n",
    "    \n"
   ]
  },
  {
   "cell_type": "markdown",
   "metadata": {},
   "source": [
    "## set"
   ]
  },
  {
   "cell_type": "code",
   "execution_count": 211,
   "metadata": {},
   "outputs": [
    {
     "name": "stdout",
     "output_type": "stream",
     "text": [
      "<class 'set'>\n",
      "140084945506088\n",
      "{'a'}\n",
      "-----\n",
      "<class 'set'>\n",
      "140084945503624\n",
      "{'a', 'b'}\n",
      "-----\n",
      "unsupported operand type(s) for +=: 'set' and 'set'\n",
      "unsupported operand type(s) for +=: 'set' and 'int'\n",
      "unsupported operand type(s) for +: 'set' and 'set'\n"
     ]
    }
   ],
   "source": [
    "a = {'a'}\n",
    "show_obj_detail(a)\n",
    "b = {'a', 'b'}\n",
    "show_obj_detail(b)\n",
    "\n",
    "try:\n",
    "    a += b\n",
    "except TypeError as e:\n",
    "    print(e)\n",
    "    \n",
    "try:\n",
    "    a += 2\n",
    "except TypeError as e:\n",
    "    print(e) \n",
    "    \n",
    "try:\n",
    "    _ = a + b\n",
    "except TypeError as e:\n",
    "    print(e) \n",
    "\n"
   ]
  },
  {
   "cell_type": "markdown",
   "metadata": {},
   "source": [
    "set类型不支持加法"
   ]
  },
  {
   "cell_type": "code",
   "execution_count": 212,
   "metadata": {},
   "outputs": [
    {
     "name": "stdout",
     "output_type": "stream",
     "text": [
      "<class 'set'>\n",
      "140084945504072\n",
      "{'a'}\n",
      "-----\n",
      "<class 'set'>\n",
      "140084945506088\n",
      "{'a', 'b'}\n",
      "-----\n",
      "a -= b\n",
      "<class 'set'>\n",
      "140084945504072\n",
      "set()\n",
      "-----\n",
      "<class 'set'>\n",
      "140084945504296\n",
      "{'a'}\n",
      "-----\n",
      "<class 'set'>\n",
      "140084945504072\n",
      "{'a', 'b'}\n",
      "-----\n",
      "a - b\n",
      "<class 'set'>\n",
      "140084945506088\n",
      "set()\n",
      "-----\n"
     ]
    }
   ],
   "source": [
    "a = {'a'}\n",
    "show_obj_detail(a)\n",
    "b = {'a', 'b'}\n",
    "show_obj_detail(b)\n",
    "\n",
    "try:\n",
    "    a -= b\n",
    "except TypeError as e:\n",
    "    print(e)\n",
    "else:\n",
    "    print('a -= b')\n",
    "    show_obj_detail(a)\n",
    "    \n",
    "a = {'a'}\n",
    "show_obj_detail(a)\n",
    "b = {'a', 'b'}\n",
    "show_obj_detail(b)\n",
    "try:\n",
    "    tmp = a -  b\n",
    "except TypeError as e:\n",
    "    print(e)\n",
    "else:\n",
    "    print('a - b')\n",
    "    show_obj_detail(tmp)\n"
   ]
  },
  {
   "cell_type": "markdown",
   "metadata": {},
   "source": [
    "然而，set类型支持减法！！\n",
    "- `Set -= Set`的话，是原地减。（指针不变）\n",
    "- `Set - Set`的话，是不是原地减。（指针变了）\n"
   ]
  },
  {
   "cell_type": "code",
   "execution_count": 213,
   "metadata": {
    "scrolled": true
   },
   "outputs": [
    {
     "name": "stdout",
     "output_type": "stream",
     "text": [
      "<class 'set'>\n",
      "140084945503624\n",
      "{'a'}\n",
      "-----\n",
      "<class 'set'>\n",
      "140084945504296\n",
      "{'a', 'b'}\n",
      "-----\n",
      "unsupported operand type(s) for *=: 'set' and 'set'\n",
      "unsupported operand type(s) for /=: 'set' and 'set'\n"
     ]
    }
   ],
   "source": [
    "a = {'a'}\n",
    "show_obj_detail(a)\n",
    "b = {'a', 'b'}\n",
    "show_obj_detail(b)\n",
    "\n",
    "try:\n",
    "    a *= b\n",
    "except TypeError as e:\n",
    "    print(e)\n",
    "else:\n",
    "    print('a *= b')\n",
    "    show_obj_detail(a)\n",
    "    \n",
    "try:\n",
    "    a /= b\n",
    "except TypeError as e:\n",
    "    print(e)\n",
    "else:\n",
    "    print('a /= b')\n",
    "    show_obj_detail(a)"
   ]
  },
  {
   "cell_type": "markdown",
   "metadata": {},
   "source": [
    "## dict"
   ]
  },
  {
   "cell_type": "code",
   "execution_count": 214,
   "metadata": {},
   "outputs": [
    {
     "name": "stdout",
     "output_type": "stream",
     "text": [
      "<class 'dict'>\n",
      "140084945280240\n",
      "{'a': 1}\n",
      "-----\n",
      "<class 'dict'>\n",
      "140084945848576\n",
      "{'b': 2}\n",
      "-----\n",
      "unsupported operand type(s) for +=: 'dict' and 'dict'\n",
      "unsupported operand type(s) for +: 'dict' and 'dict'\n"
     ]
    }
   ],
   "source": [
    "a = {'a': 1}\n",
    "show_obj_detail(a)\n",
    "b = {'b': 2}\n",
    "show_obj_detail(b)\n",
    "\n",
    "try:\n",
    "    a += b\n",
    "except TypeError as e:\n",
    "    print(e)\n",
    "    \n",
    "try:\n",
    "    _ = a + b\n",
    "except TypeError as e:\n",
    "    print(e)\n"
   ]
  },
  {
   "cell_type": "code",
   "execution_count": 215,
   "metadata": {
    "scrolled": true
   },
   "outputs": [
    {
     "name": "stdout",
     "output_type": "stream",
     "text": [
      "<class 'dict'>\n",
      "140084945037208\n",
      "{'a': 1}\n",
      "-----\n",
      "<class 'dict'>\n",
      "140084945280240\n",
      "{'b': 2}\n",
      "-----\n",
      "unsupported operand type(s) for -=: 'dict' and 'dict'\n",
      "unsupported operand type(s) for -: 'dict' and 'dict'\n"
     ]
    }
   ],
   "source": [
    "a = {'a': 1}\n",
    "show_obj_detail(a)\n",
    "b = {'b': 2}\n",
    "show_obj_detail(b)\n",
    "\n",
    "try:\n",
    "    a -= b\n",
    "except TypeError as e:\n",
    "    print(e)\n",
    "    \n",
    "try:\n",
    "    _ = a - b\n",
    "except TypeError as e:\n",
    "    print(e)"
   ]
  },
  {
   "cell_type": "code",
   "execution_count": 216,
   "metadata": {},
   "outputs": [
    {
     "name": "stdout",
     "output_type": "stream",
     "text": [
      "<class 'dict'>\n",
      "140084945474112\n",
      "{'a': 1}\n",
      "-----\n",
      "<class 'dict'>\n",
      "140084945037208\n",
      "{'b': 2}\n",
      "-----\n",
      "unsupported operand type(s) for *=: 'dict' and 'dict'\n",
      "unsupported operand type(s) for *: 'dict' and 'dict'\n"
     ]
    }
   ],
   "source": [
    "a = {'a': 1}\n",
    "show_obj_detail(a)\n",
    "b = {'b': 2}\n",
    "show_obj_detail(b)\n",
    "\n",
    "try:\n",
    "    a *= b\n",
    "except TypeError as e:\n",
    "    print(e)\n",
    "    \n",
    "try:\n",
    "    _ = a * b\n",
    "except TypeError as e:\n",
    "    print(e)"
   ]
  },
  {
   "cell_type": "code",
   "execution_count": 217,
   "metadata": {},
   "outputs": [
    {
     "name": "stdout",
     "output_type": "stream",
     "text": [
      "<class 'dict'>\n",
      "140084945023912\n",
      "{'a': 1}\n",
      "-----\n",
      "<class 'dict'>\n",
      "140084945474112\n",
      "{'b': 2}\n",
      "-----\n",
      "unsupported operand type(s) for /=: 'dict' and 'dict'\n",
      "unsupported operand type(s) for /: 'dict' and 'dict'\n"
     ]
    }
   ],
   "source": [
    "a = {'a': 1}\n",
    "show_obj_detail(a)\n",
    "b = {'b': 2}\n",
    "show_obj_detail(b)\n",
    "\n",
    "try:\n",
    "    a /= b\n",
    "except TypeError as e:\n",
    "    print(e)\n",
    "    \n",
    "try:\n",
    "    _ = a / b\n",
    "except TypeError as e:\n",
    "    print(e)"
   ]
  }
 ],
 "metadata": {
  "kernelspec": {
   "display_name": "python3.7.3",
   "language": "python",
   "name": "python3.7.3"
  },
  "language_info": {
   "codemirror_mode": {
    "name": "ipython",
    "version": 3
   },
   "file_extension": ".py",
   "mimetype": "text/x-python",
   "name": "python",
   "nbconvert_exporter": "python",
   "pygments_lexer": "ipython3",
   "version": "3.7.3"
  }
 },
 "nbformat": 4,
 "nbformat_minor": 2
}
