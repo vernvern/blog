{
  "nbformat": 4,
  "nbformat_minor": 0,
  "metadata": {
    "colab": {
      "name": "Untitled0.ipynb",
      "version": "0.3.2",
      "provenance": [],
      "collapsed_sections": [],
      "include_colab_link": true
    },
    "kernelspec": {
      "name": "python3",
      "display_name": "Python 3"
    }
  },
  "cells": [
    {
      "cell_type": "markdown",
      "metadata": {
        "id": "view-in-github",
        "colab_type": "text"
      },
      "source": [
        "[View in Colaboratory](https://colab.research.google.com/github/vernvern/blog/blob/master/python/Untitled0.ipynb)"
      ]
    },
    {
      "metadata": {
        "id": "22aiHIz-_2Sy",
        "colab_type": "code",
        "colab": {
          "base_uri": "https://localhost:8080/",
          "height": 34
        },
        "outputId": "ae2e00d0-1cda-4a17-a68d-5536b588a34d"
      },
      "cell_type": "code",
      "source": [
        "print('23')"
      ],
      "execution_count": 0,
      "outputs": [
        {
          "output_type": "stream",
          "text": [
            "23\n"
          ],
          "name": "stdout"
        }
      ]
    },
    {
      "metadata": {
        "id": "X38ZwMJzBkJ1",
        "colab_type": "code",
        "colab": {
          "base_uri": "https://localhost:8080/",
          "height": 51
        },
        "outputId": "e5175039-bc68-41d4-9087-5d044faf8d01"
      },
      "cell_type": "code",
      "source": [
        "import functools\n",
        "print(functools)\n",
        "print('2333')\n"
      ],
      "execution_count": 1,
      "outputs": [
        {
          "output_type": "stream",
          "text": [
            "<module 'functools' from '/usr/lib/python3.6/functools.py'>\n",
            "2333\n"
          ],
          "name": "stdout"
        }
      ]
    }
  ]
}