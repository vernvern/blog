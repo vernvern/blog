{
 "cells": [
  {
   "cell_type": "code",
   "execution_count": 23,
   "metadata": {},
   "outputs": [
    {
     "name": "stdout",
     "output_type": "stream",
     "text": [
      "None: False\n"
     ]
    }
   ],
   "source": [
    "obj = None\n",
    "print('{}: {}'.format(obj, bool(obj)))"
   ]
  },
  {
   "cell_type": "code",
   "execution_count": 22,
   "metadata": {},
   "outputs": [
    {
     "name": "stdout",
     "output_type": "stream",
     "text": [
      "False: False\n"
     ]
    }
   ],
   "source": [
    "obj = False\n",
    "print('{}: {}'.format(obj, bool(obj)))"
   ]
  },
  {
   "cell_type": "code",
   "execution_count": 21,
   "metadata": {},
   "outputs": [
    {
     "name": "stdout",
     "output_type": "stream",
     "text": [
      ": False\n"
     ]
    }
   ],
   "source": [
    "obj = ''\n",
    "print('{}: {}'.format(obj, bool(obj)))"
   ]
  },
  {
   "cell_type": "code",
   "execution_count": 20,
   "metadata": {},
   "outputs": [
    {
     "name": "stdout",
     "output_type": "stream",
     "text": [
      "{}: False\n"
     ]
    }
   ],
   "source": [
    "obj = {}\n",
    "print('{}: {}'.format(obj, bool(obj)))"
   ]
  },
  {
   "cell_type": "code",
   "execution_count": 19,
   "metadata": {},
   "outputs": [
    {
     "name": "stdout",
     "output_type": "stream",
     "text": [
      "[]: False\n"
     ]
    }
   ],
   "source": [
    "obj = []\n",
    "print('{}: {}'.format(obj, bool(obj)))"
   ]
  },
  {
   "cell_type": "code",
   "execution_count": 18,
   "metadata": {
    "scrolled": true
   },
   "outputs": [
    {
     "name": "stdout",
     "output_type": "stream",
     "text": [
      "<__main__.Test object at 0x10b575668>: False\n"
     ]
    }
   ],
   "source": [
    "class Test:\n",
    "    def __len__(self):\n",
    "        return False\n",
    "obj = Test()\n",
    "print('{}: {}'.format(obj, bool(obj)))"
   ]
  },
  {
   "cell_type": "code",
   "execution_count": 28,
   "metadata": {},
   "outputs": [
    {
     "name": "stdout",
     "output_type": "stream",
     "text": [
      "<__main__.Test object at 0x10b6094e0>: False\n",
      "It will be True when python2\n"
     ]
    }
   ],
   "source": [
    "class Test:\n",
    "    def __bool__(self):\n",
    "        return False\n",
    "obj = Test()\n",
    "print('{}: {}'.format(obj, bool(obj)))\n",
    "print('It will be True when python2')"
   ]
  },
  {
   "cell_type": "code",
   "execution_count": 27,
   "metadata": {},
   "outputs": [
    {
     "name": "stdout",
     "output_type": "stream",
     "text": [
      "<__main__.Test object at 0x10b5737b8>: True\n",
      "It will be False when python2\n"
     ]
    }
   ],
   "source": [
    "# python2\n",
    "\n",
    "class Test:\n",
    "    def __nonzero__(self):\n",
    "        return False\n",
    "obj = Test()\n",
    "print('{}: {}'.format(obj, bool(obj)))\n",
    "print('It will be False when python2')"
   ]
  }
 ],
 "metadata": {
  "kernelspec": {
   "display_name": "Python 3",
   "language": "python",
   "name": "python3"
  },
  "language_info": {
   "codemirror_mode": {
    "name": "ipython",
    "version": 3
   },
   "file_extension": ".py",
   "mimetype": "text/x-python",
   "name": "python",
   "nbconvert_exporter": "python",
   "pygments_lexer": "ipython3",
   "version": "3.6.5"
  }
 },
 "nbformat": 4,
 "nbformat_minor": 2
}
