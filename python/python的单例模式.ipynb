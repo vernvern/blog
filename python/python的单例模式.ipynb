{
  "nbformat": 4,
  "nbformat_minor": 0,
  "metadata": {
    "colab": {
      "name": "python的单例模式.ipynb",
      "version": "0.3.2",
      "provenance": []
    },
    "kernelspec": {
      "display_name": "Python 3",
      "language": "python",
      "name": "python3"
    }
  },
  "cells": [
    {
      "metadata": {
        "id": "AnFTt8-3F8pT",
        "colab_type": "code",
        "colab": {
          "base_uri": "https://localhost:8080/",
          "height": 85
        },
        "outputId": "1a40e845-6ae5-45e5-89ed-4a3c9761e349"
      },
      "cell_type": "code",
      "source": [
        "\n",
        "class TestSingleton(object):\n",
        "    '''使用__new__()实现单例模式'''\n",
        "    _singleton = None\n",
        "    def __new__(cls, *args, **kw):\n",
        "        if not cls._singleton:\n",
        "            cls._singleton = object.__new__(cls, *args, **kw)\n",
        "        return cls._singleton\n",
        "\n",
        "a = TestSingleton()\n",
        "b = TestSingleton()\n",
        "a.status = 1\n",
        "print('a.status:', a.status)\n",
        "print('b.status:',b.status)\n",
        "print('a == b: ', a == b)\n",
        "print('a is b: ', a is b)"
      ],
      "execution_count": 0,
      "outputs": [
        {
          "output_type": "stream",
          "text": [
            "a.status: 1\n",
            "b.status: 1\n",
            "a == b:  True\n",
            "a is b:  True\n"
          ],
          "name": "stdout"
        }
      ]
    },
    {
      "metadata": {
        "id": "5qsHiJ_9F8pY",
        "colab_type": "code",
        "colab": {},
        "outputId": "b67d0726-a201-4a96-ed59-9fa480ccf325"
      },
      "cell_type": "code",
      "source": [
        "\n",
        "class SingletonMeta(type):\n",
        "    '''\n",
        "    使用元类实现单例模式\n",
        "    '''\n",
        "    def __init__(self, *args, **kw):\n",
        "        self._singleton = None\n",
        "        super().__init__(*args, **kw)\n",
        "    def __call__(self, *args, **kw):\n",
        "        if self._singleton == None:\n",
        "            self._singleton = super().__call__(*args, **kw)\n",
        "        return self._singleton\n",
        "\n",
        "\n",
        "class TestSingleton2(object, metaclass=SingletonMeta):\n",
        "    pass\n",
        "\n",
        "a = TestSingleton2()\n",
        "b = TestSingleton2()\n",
        "a.status = 1\n",
        "print('a.status:', a.status)\n",
        "print('b.status:',b.status)\n",
        "print('a == b: ', a == b)\n",
        "print('a is b: ', a is b)"
      ],
      "execution_count": 0,
      "outputs": [
        {
          "output_type": "stream",
          "text": [
            "a.status: 1\n",
            "b.status: 1\n",
            "a == b:  True\n",
            "a is b:  True\n"
          ],
          "name": "stdout"
        }
      ]
    },
    {
      "metadata": {
        "id": "SY6yQUQXF8pb",
        "colab_type": "code",
        "colab": {},
        "outputId": "7b8edfac-2308-4280-c7c5-60142edee84c"
      },
      "cell_type": "code",
      "source": [
        "def singleton(cls, *args, **kw):\n",
        "    ''' 使用装饰器实现单例模式 '''\n",
        "    cls_list = {}\n",
        "    def _singleton(*args, **kw):\n",
        "        if cls not in cls_list:\n",
        "            cls_list[cls] = cls(*args, **kw)\n",
        "        return cls_list[cls]\n",
        "    return _singleton\n",
        "\n",
        "@singleton\n",
        "class TestSingleton:\n",
        "    pass\n",
        "\n",
        "a = TestSingleton()\n",
        "b = TestSingleton()\n",
        "a.status = 1\n",
        "print('a.status:', a.status)\n",
        "print('b.status:',b.status)\n",
        "print('a == b: ', a == b)\n",
        "print('a is b: ', a is b)"
      ],
      "execution_count": 0,
      "outputs": [
        {
          "output_type": "stream",
          "text": [
            "a == b:  True\n",
            "a is b:  True\n"
          ],
          "name": "stdout"
        }
      ]
    },
    {
      "metadata": {
        "id": "GlrH7fReF8pf",
        "colab_type": "code",
        "colab": {
          "base_uri": "https://localhost:8080/",
          "height": 85
        },
        "outputId": "dfbf3c1a-6889-4970-f0a9-143e17f6243e"
      },
      "cell_type": "code",
      "source": [
        "class TestSingleton:\n",
        "    ''' 使用__shared_state属性实现Borg模式\n",
        "    Borg类似单例模式，区别是：\n",
        "    单例模式的类各个实例是同一个对象\n",
        "    Borg模式的类各个实例是不同对象，不过它们共享属性\n",
        "    \n",
        "    原理:\n",
        "    \n",
        "    __shared_state 是类属性，self.__dict__保存实例的属性\n",
        "    将self.__dict__指向类属性__shared_state，完成实例属性共享的功能\n",
        "    '''\n",
        "    __shared_state = {}\n",
        "    \n",
        "    def __init__(self):\n",
        "        self.__dict__ = self.__shared_state\n",
        "        \n",
        "a = TestSingleton()\n",
        "b = TestSingleton()\n",
        "a.status = 1\n",
        "print('a.status:', a.status)\n",
        "print('b.status:',b.status)\n",
        "print('a == b: ', a == b)\n",
        "print('a is b: ', a is b)\n"
      ],
      "execution_count": 4,
      "outputs": [
        {
          "output_type": "stream",
          "text": [
            "a.status: 1\n",
            "b.status: 1\n",
            "a == b:  False\n",
            "a is b:  False\n"
          ],
          "name": "stdout"
        }
      ]
    }
  ]
}