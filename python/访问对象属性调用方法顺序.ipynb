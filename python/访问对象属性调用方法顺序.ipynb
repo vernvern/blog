{
 "cells": [
  {
   "cell_type": "markdown",
   "metadata": {},
   "source": [
    "1、**__getattribute__**(只要访问属性就会调用)\n",
    "\n",
    "2、取**实例属性**, 也就是`obj.__dict__`\n",
    "\n",
    "3、如果实例没有这个属性，去取**类属性**, 也就是`obj.__class__.__dict__`\n",
    "\n",
    "3、 rug\n",
    "\n",
    "3、如果类也没有属性才会调用： **__getattr__**"
   ]
  },
  {
   "cell_type": "code",
   "execution_count": 16,
   "metadata": {},
   "outputs": [
    {
     "name": "stdout",
     "output_type": "stream",
     "text": [
      "__getattribute__\n",
      "1\n"
     ]
    }
   ],
   "source": [
    "class Test:\n",
    "    a = 1\n",
    "    def __init__(self):\n",
    "        pass\n",
    "    def __getattribute__(self, *args,**kw):\n",
    "        print('__getattribute__')\n",
    "        super().__getattribute__(*args,**kw)\n",
    "    \n",
    "    def __getattr__(self, *args,**kw):\n",
    "        print('__getattr__')\n",
    "        \n",
    "        return super().__getattr__(*args, **kw)  \n",
    "    \n",
    "    \n",
    "test = Test()\n",
    "test.a\n",
    "print(1)"
   ]
  },
  {
   "cell_type": "code",
   "execution_count": 3,
   "metadata": {},
   "outputs": [
    {
     "name": "stdout",
     "output_type": "stream",
     "text": [
      "__getattribute__\n",
      "1\n"
     ]
    }
   ],
   "source": [
    "class Test:\n",
    "    def __init__(self):\n",
    "        self.a = 2\n",
    "    def __getattribute__(self, *args,**kw):\n",
    "        print('__getattribute__')\n",
    "        \n",
    "        return super().__getattribute__(*args, **kw)\n",
    "    \n",
    "    def __getattr__(self, *args,**kw):\n",
    "        print('__getattr__')\n",
    "        \n",
    "        return super().__getattr__(*args, **kw)  \n",
    "    \n",
    "    \n",
    "test = Test()\n",
    "test.a\n",
    "print(1)"
   ]
  },
  {
   "cell_type": "code",
   "execution_count": 4,
   "metadata": {},
   "outputs": [
    {
     "name": "stdout",
     "output_type": "stream",
     "text": [
      "__getattribute__\n",
      "__getattr__\n"
     ]
    },
    {
     "ename": "AttributeError",
     "evalue": "'super' object has no attribute '__getattr__'",
     "output_type": "error",
     "traceback": [
      "\u001b[0;31m---------------------------------------------------------------------------\u001b[0m",
      "\u001b[0;31mAttributeError\u001b[0m                            Traceback (most recent call last)",
      "\u001b[0;32m<ipython-input-4-5a1bed17cf13>\u001b[0m in \u001b[0;36m<module>\u001b[0;34m\u001b[0m\n\u001b[1;32m     13\u001b[0m \u001b[0;34m\u001b[0m\u001b[0m\n\u001b[1;32m     14\u001b[0m \u001b[0mtest\u001b[0m \u001b[0;34m=\u001b[0m \u001b[0mTest\u001b[0m\u001b[0;34m(\u001b[0m\u001b[0;34m)\u001b[0m\u001b[0;34m\u001b[0m\u001b[0;34m\u001b[0m\u001b[0m\n\u001b[0;32m---> 15\u001b[0;31m \u001b[0mtest\u001b[0m\u001b[0;34m.\u001b[0m\u001b[0ma\u001b[0m\u001b[0;34m\u001b[0m\u001b[0;34m\u001b[0m\u001b[0m\n\u001b[0m\u001b[1;32m     16\u001b[0m \u001b[0mprint\u001b[0m\u001b[0;34m(\u001b[0m\u001b[0;36m1\u001b[0m\u001b[0;34m)\u001b[0m\u001b[0;34m\u001b[0m\u001b[0;34m\u001b[0m\u001b[0m\n",
      "\u001b[0;32m<ipython-input-4-5a1bed17cf13>\u001b[0m in \u001b[0;36m__getattr__\u001b[0;34m(self, *args, **kw)\u001b[0m\n\u001b[1;32m      9\u001b[0m         \u001b[0mprint\u001b[0m\u001b[0;34m(\u001b[0m\u001b[0;34m'__getattr__'\u001b[0m\u001b[0;34m)\u001b[0m\u001b[0;34m\u001b[0m\u001b[0;34m\u001b[0m\u001b[0m\n\u001b[1;32m     10\u001b[0m \u001b[0;34m\u001b[0m\u001b[0m\n\u001b[0;32m---> 11\u001b[0;31m         \u001b[0;32mreturn\u001b[0m \u001b[0msuper\u001b[0m\u001b[0;34m(\u001b[0m\u001b[0;34m)\u001b[0m\u001b[0;34m.\u001b[0m\u001b[0m__getattr__\u001b[0m\u001b[0;34m(\u001b[0m\u001b[0;34m*\u001b[0m\u001b[0margs\u001b[0m\u001b[0;34m,\u001b[0m \u001b[0;34m**\u001b[0m\u001b[0mkw\u001b[0m\u001b[0;34m)\u001b[0m\u001b[0;34m\u001b[0m\u001b[0;34m\u001b[0m\u001b[0m\n\u001b[0m\u001b[1;32m     12\u001b[0m \u001b[0;34m\u001b[0m\u001b[0m\n\u001b[1;32m     13\u001b[0m \u001b[0;34m\u001b[0m\u001b[0m\n",
      "\u001b[0;31mAttributeError\u001b[0m: 'super' object has no attribute '__getattr__'"
     ]
    }
   ],
   "source": [
    "class Test:\n",
    "\n",
    "    def __getattribute__(self, *args,**kw):\n",
    "        print('__getattribute__')\n",
    "        \n",
    "        return super().__getattribute__(*args, **kw)\n",
    "    \n",
    "    def __getattr__(self, *args,**kw):\n",
    "        print('__getattr__')\n",
    "        \n",
    "        return super().__getattr__(*args, **kw)  \n",
    "    \n",
    "    \n",
    "test = Test()\n",
    "test.a\n",
    "print(1)"
   ]
  }
 ],
 "metadata": {
  "kernelspec": {
   "display_name": "Python 3",
   "language": "python",
   "name": "python3"
  },
  "language_info": {
   "codemirror_mode": {
    "name": "ipython",
    "version": 3
   },
   "file_extension": ".py",
   "mimetype": "text/x-python",
   "name": "python",
   "nbconvert_exporter": "python",
   "pygments_lexer": "ipython3",
   "version": "3.7.2"
  }
 },
 "nbformat": 4,
 "nbformat_minor": 2
}
