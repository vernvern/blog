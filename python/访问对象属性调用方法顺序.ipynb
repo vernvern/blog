{
 "cells": [
  {
   "cell_type": "markdown",
   "metadata": {},
   "source": [
    "1、`obj.__getattribute__`(只要访问属性就会调用)\n",
    "\n",
    "2、取**实例属性**, 也就是`obj.__dict__`\n",
    "\n",
    "3、如果实例没有这个属性，**类属性**找, 也就是`obj.__class__.__dict__`\n",
    "\n",
    "3、 如果还没有，去父类找: `obj.__class__.__bases__.__dict__`\n",
    "\n",
    "3、如果还还还还没有，才会调用： `obj.__getattr__`"
   ]
  }
 ],
 "metadata": {
  "kernelspec": {
   "display_name": "Python 3",
   "language": "python",
   "name": "python3"
  },
  "language_info": {
   "codemirror_mode": {
    "name": "ipython",
    "version": 3
   },
   "file_extension": ".py",
   "mimetype": "text/x-python",
   "name": "python",
   "nbconvert_exporter": "python",
   "pygments_lexer": "ipython3",
   "version": "3.7.2"
  }
 },
 "nbformat": 4,
 "nbformat_minor": 2
}
