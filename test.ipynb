{
 "cells": [
  {
   "cell_type": "code",
   "execution_count": 101,
   "metadata": {
    "collapsed": true
   },
   "outputs": [
    {
     "name": "stdout",
     "output_type": "stream",
     "text": [
      "52\n",
      "Card(rank='2', suit='spades')\n",
      "Card(rank='Q', suit='diamonds')\n",
      "[Card(rank='2', suit='spades'), Card(rank='2', suit='diamonds'), Card(rank='2', suit='clubs'), Card(rank='2', suit='hearts')]\n",
      "Card(rank='2', suit='spades') 0 0 3\n",
      "Card(rank='3', suit='spades') 1 4 7\n",
      "Card(rank='4', suit='spades') 2 8 11\n",
      "Card(rank='5', suit='spades') 3 12 15\n",
      "Card(rank='6', suit='spades') 4 16 19\n",
      "Card(rank='7', suit='spades') 5 20 23\n",
      "Card(rank='8', suit='spades') 6 24 27\n",
      "Card(rank='9', suit='spades') 7 28 31\n",
      "Card(rank='10', suit='spades') 8 32 35\n",
      "Card(rank='J', suit='spades') 9 36 39\n",
      "Card(rank='Q', suit='spades') 10 40 43\n",
      "Card(rank='K', suit='spades') 11 44 47\n",
      "Card(rank='A', suit='spades') 12 48 51\n",
      "Card(rank='2', suit='diamonds') 0 0 1\n",
      "Card(rank='3', suit='diamonds') 1 4 5\n",
      "Card(rank='4', suit='diamonds') 2 8 9\n",
      "Card(rank='5', suit='diamonds') 3 12 13\n",
      "Card(rank='6', suit='diamonds') 4 16 17\n",
      "Card(rank='7', suit='diamonds') 5 20 21\n",
      "Card(rank='8', suit='diamonds') 6 24 25\n",
      "Card(rank='9', suit='diamonds') 7 28 29\n",
      "Card(rank='10', suit='diamonds') 8 32 33\n",
      "Card(rank='J', suit='diamonds') 9 36 37\n",
      "Card(rank='Q', suit='diamonds') 10 40 41\n",
      "Card(rank='K', suit='diamonds') 11 44 45\n",
      "Card(rank='A', suit='diamonds') 12 48 49\n",
      "Card(rank='2', suit='clubs') 0 0 0\n",
      "Card(rank='3', suit='clubs') 1 4 4\n",
      "Card(rank='4', suit='clubs') 2 8 8\n",
      "Card(rank='5', suit='clubs') 3 12 12\n",
      "Card(rank='6', suit='clubs') 4 16 16\n",
      "Card(rank='7', suit='clubs') 5 20 20\n",
      "Card(rank='8', suit='clubs') 6 24 24\n",
      "Card(rank='9', suit='clubs') 7 28 28\n",
      "Card(rank='10', suit='clubs') 8 32 32\n",
      "Card(rank='J', suit='clubs') 9 36 36\n",
      "Card(rank='Q', suit='clubs') 10 40 40\n",
      "Card(rank='K', suit='clubs') 11 44 44\n",
      "Card(rank='A', suit='clubs') 12 48 48\n",
      "Card(rank='2', suit='hearts') 0 0 2\n",
      "Card(rank='3', suit='hearts') 1 4 6\n",
      "Card(rank='4', suit='hearts') 2 8 10\n",
      "Card(rank='5', suit='hearts') 3 12 14\n",
      "Card(rank='6', suit='hearts') 4 16 18\n",
      "Card(rank='7', suit='hearts') 5 20 22\n",
      "Card(rank='8', suit='hearts') 6 24 26\n",
      "Card(rank='9', suit='hearts') 7 28 30\n",
      "Card(rank='10', suit='hearts') 8 32 34\n",
      "Card(rank='J', suit='hearts') 9 36 38\n",
      "Card(rank='Q', suit='hearts') 10 40 42\n",
      "Card(rank='K', suit='hearts') 11 44 46\n",
      "Card(rank='A', suit='hearts') 12 48 50\n",
      "[Card(rank='2', suit='clubs'), Card(rank='2', suit='diamonds'), Card(rank='2', suit='hearts'), Card(rank='2', suit='spades'), Card(rank='3', suit='clubs'), Card(rank='3', suit='diamonds'), Card(rank='3', suit='hearts'), Card(rank='3', suit='spades'), Card(rank='4', suit='clubs'), Card(rank='4', suit='diamonds'), Card(rank='4', suit='hearts'), Card(rank='4', suit='spades'), Card(rank='5', suit='clubs'), Card(rank='5', suit='diamonds'), Card(rank='5', suit='hearts'), Card(rank='5', suit='spades'), Card(rank='6', suit='clubs'), Card(rank='6', suit='diamonds'), Card(rank='6', suit='hearts'), Card(rank='6', suit='spades'), Card(rank='7', suit='clubs'), Card(rank='7', suit='diamonds'), Card(rank='7', suit='hearts'), Card(rank='7', suit='spades'), Card(rank='8', suit='clubs'), Card(rank='8', suit='diamonds'), Card(rank='8', suit='hearts'), Card(rank='8', suit='spades'), Card(rank='9', suit='clubs'), Card(rank='9', suit='diamonds'), Card(rank='9', suit='hearts'), Card(rank='9', suit='spades'), Card(rank='10', suit='clubs'), Card(rank='10', suit='diamonds'), Card(rank='10', suit='hearts'), Card(rank='10', suit='spades'), Card(rank='J', suit='clubs'), Card(rank='J', suit='diamonds'), Card(rank='J', suit='hearts'), Card(rank='J', suit='spades'), Card(rank='Q', suit='clubs'), Card(rank='Q', suit='diamonds'), Card(rank='Q', suit='hearts'), Card(rank='Q', suit='spades'), Card(rank='K', suit='clubs'), Card(rank='K', suit='diamonds'), Card(rank='K', suit='hearts'), Card(rank='K', suit='spades'), Card(rank='A', suit='clubs'), Card(rank='A', suit='diamonds'), Card(rank='A', suit='hearts'), Card(rank='A', suit='spades')]\n"
     ]
    }
   ],
   "source": [
    "import collections\n",
    "from random import  choice\n",
    "\n",
    "Card= collections.namedtuple('Card', ['rank', 'suit'])\n",
    "\n",
    "\n",
    "class FrenchDeck:\n",
    "    ''' 扑克 '''\n",
    "    suits = ['spades', 'diamonds', 'clubs', 'hearts']\n",
    "    ranks = [str(x) for x in range(2, 11)] + list('JQKA')\n",
    "    def __init__(self):\n",
    "        self._cards = [Card(rank, suit) for suit in self.suits\n",
    "                                        for rank in self.ranks]\n",
    "        \n",
    "    def __len__(self):\n",
    "        return len(self._cards)\n",
    "    \n",
    "    def __getitem__(self, num):\n",
    "        return self._cards[num]\n",
    "\n",
    "french_deck = FrenchDeck()\n",
    "print(len(french_deck))  # 排堆数量\n",
    "print(french_deck[0])  # 获取排堆第一张\n",
    "print(choice(french_deck))  # 随机抽一张拍\n",
    "print(french_deck[0::13])  # 抽出所有‘2’的卡牌\n",
    "\n",
    "suit_values = dict(spades=3, hearts=2, diamonds=1, clubs=0)\n",
    "def spader_high(card):\n",
    "    rank_value = FrenchDeck.ranks.index(card.rank)\n",
    "    print(card, rank_value, rank_value * len(suit_values), rank_value * len(suit_values) + suit_values[card.suit])\n",
    "    return rank_value * len(suit_values) + suit_values[card.suit]\n",
    "\n",
    "    \n",
    "print(sorted(french_deck, key=spader_high))  # 升序排列\n",
    "\n",
    "\n"
   ]
  },
  {
   "cell_type": "code",
   "execution_count": 5,
   "metadata": {
    "collapsed": true
   },
   "outputs": [
    {
     "name": "stdout",
     "output_type": "stream",
     "text": [
      "DEMO: bisect\n",
      "haystack ->  1  4  5  7  8 20 24 30 31\n",
      "31 @  9      |  |  |  |  |  |  |  |  |31\n",
      "24 @  7      |  |  |  |  |  |  |24\n",
      "22 @  6      |  |  |  |  |  |22\n",
      "10 @  5      |  |  |  |  |10\n",
      " 2 @  1      |2 \n",
      " 0 @  0    0 \n",
      "DEMO: bisect_left\n",
      "haystack ->  1  4  5  7  8 20 24 30 31\n",
      "31 @  8      |  |  |  |  |  |  |  |31\n",
      "24 @  6      |  |  |  |  |  |24\n",
      "22 @  6      |  |  |  |  |  |22\n",
      "10 @  5      |  |  |  |  |10\n",
      " 2 @  1      |2 \n",
      " 0 @  0    0 \n"
     ]
    }
   ],
   "source": [
    "import bisect\n",
    "\n",
    "HAYSTACK = [1, 4, 5, 7, 8,20, 24, 30, 31]\n",
    "NEEDLES = [0, 2, 10, 22,24,31]\n",
    "\n",
    "ROW_FMT = '{0:2d} @ {1:2d}    {2}{0:<2d}'\n",
    "\n",
    "def demo(bisect_fn):\n",
    "    for needle in reversed(NEEDLES):\n",
    "        position = bisect_fn(HAYSTACK, needle)\n",
    "        offset = position * '  |'\n",
    "        print(ROW_FMT.format(needle, position, offset))\n",
    "\n",
    "print('DEMO:', bisect.bisect.__name__)\n",
    "print('haystack ->', ' '.join('%2d' % n for n in HAYSTACK))\n",
    "demo(bisect.bisect)\n",
    "\n",
    "print('DEMO:', bisect.bisect_left.__name__)\n",
    "print('haystack ->', ' '.join('%2d' % n for n in HAYSTACK))\n",
    "demo(bisect.bisect_left)\n",
    "\n",
    "\n"
   ]
  },
  {
   "cell_type": "code",
   "execution_count": 10,
   "metadata": {},
   "outputs": [
    {
     "data": {
      "text/plain": [
       "['F', 'D', 'C', 'B', 'A']"
      ]
     },
     "execution_count": 10,
     "metadata": {},
     "output_type": "execute_result"
    }
   ],
   "source": [
    "import bisect\n",
    "\n",
    "def grade(score, breakpoints=[60, 70, 80, 90], grades='FDCBA'):\n",
    "    index = bisect.bisect(breakpoints, score)\n",
    "    return grades[index]\n",
    "\n",
    "[grade(x) for x in [55, 66, 77, 88, 99]]    "
   ]
  },
  {
   "cell_type": "code",
   "execution_count": null,
   "metadata": {},
   "outputs": [],
   "source": []
  }
 ],
 "metadata": {
  "kernelspec": {
   "display_name": "Python 3",
   "language": "python",
   "name": "python3"
  },
  "language_info": {
   "codemirror_mode": {
    "name": "ipython",
    "version": 3
   },
   "file_extension": ".py",
   "mimetype": "text/x-python",
   "name": "python",
   "nbconvert_exporter": "python",
   "pygments_lexer": "ipython3",
   "version": "3.6.3"
  }
 },
 "nbformat": 4,
 "nbformat_minor": 2
}
